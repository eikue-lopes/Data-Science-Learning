{
 "cells": [
  {
   "cell_type": "markdown",
   "metadata": {},
   "source": [
    "### Importo as Bibiliotecas"
   ]
  },
  {
   "cell_type": "code",
   "execution_count": 207,
   "metadata": {},
   "outputs": [],
   "source": [
    "import pandas as pd\n",
    "import yfinance as yf\n",
    "import pandas_ta as ta\n",
    "import numpy as np\n",
    "import matplotlib.pyplot as plt\n",
    "from sklearn.model_selection import train_test_split\n",
    "from sklearn.metrics import classification_report , confusion_matrix , accuracy_score , precision_score\n",
    "import sklearn.naive_bayes as nb\n",
    "from sklearn.ensemble import RandomForestClassifier\n",
    "from sklearn.linear_model import LogisticRegression\n",
    "from sklearn.preprocessing import binarize\n",
    "\n",
    "# Para remover os warnings\n",
    "import sys\n",
    "\n",
    "if not sys.warnoptions:\n",
    "    import warnings\n",
    "    warnings.simplefilter(\"ignore\")"
   ]
  },
  {
   "cell_type": "markdown",
   "metadata": {},
   "source": [
    "### Carrego o DataSet"
   ]
  },
  {
   "cell_type": "code",
   "execution_count": 208,
   "metadata": {
    "scrolled": true
   },
   "outputs": [
    {
     "name": "stdout",
     "output_type": "stream",
     "text": [
      "(2014, 7)\n"
     ]
    }
   ],
   "source": [
    "#bbdc = yf.download('BBDC',start='2007-02-22',end='2015-02-22')\n",
    "#bbdc.to_csv('bbdc-train-test.csv')\n",
    "bbdc = pd.read_csv('bbdc-train-test.csv',sep=',')\n",
    "print(bbdc.shape)"
   ]
  },
  {
   "cell_type": "code",
   "execution_count": 209,
   "metadata": {
    "scrolled": true
   },
   "outputs": [],
   "source": [
    "bbdc = bbdc[['Close']]"
   ]
  },
  {
   "cell_type": "markdown",
   "metadata": {},
   "source": [
    "### Crio Variáveis Auxiliares"
   ]
  },
  {
   "cell_type": "code",
   "execution_count": 210,
   "metadata": {},
   "outputs": [],
   "source": [
    "N_ANTERIORES = 5\n",
    "N_FUTURO = 15\n",
    "PERIODOS_BBAND = 5\n",
    "PERIODOS_EMA = 5\n",
    "PERIODOS_RSI = 5\n",
    "MACD_FAST = 5\n",
    "MACD_SLOW = 10\n",
    "MACD_SIGNAL = 5\n",
    "\n"
   ]
  },
  {
   "cell_type": "markdown",
   "metadata": {},
   "source": [
    "### Crio Features"
   ]
  },
  {
   "cell_type": "code",
   "execution_count": 211,
   "metadata": {},
   "outputs": [],
   "source": [
    "bbdc['RSI'] = ta.rsi(bbdc['Close'],length=PERIODOS_RSI)\n",
    "bbdc['MACD_HISTOGRAM'] = ta.macd(bbdc['Close'],fast=MACD_FAST,slow=MACD_SLOW,signal=MACD_SIGNAL).iloc[:,1]\n",
    "bbdc[['BBANDL','BBANDM','BBANDU']] = ta.bbands(bbdc['Close'],length=PERIODOS_BBAND,std=2)\n",
    "bbdc['EMA'] = ta.ema(bbdc['Close'],length=PERIODOS_EMA)\n",
    "ClosePassado = bbdc['Close'].shift(periods=N_ANTERIORES)\n",
    "ClosePassado.dropna(axis='index',inplace=True)\n",
    "\n",
    "bbdc[f'Retorno{N_ANTERIORES}DiasPassados%'] = (bbdc['Close'] - ClosePassado) / ClosePassado\n",
    "\n",
    "bbdc.dropna(axis='index',inplace=True)\n"
   ]
  },
  {
   "cell_type": "markdown",
   "metadata": {},
   "source": [
    "### Crio o Alvo"
   ]
  },
  {
   "cell_type": "code",
   "execution_count": 212,
   "metadata": {},
   "outputs": [],
   "source": [
    "ClosesFuturo = bbdc['Close'].shift(periods= -N_FUTURO)\n",
    "bbdc[f'RetornoAlvoProx{N_FUTURO}Dias%'] = (ClosesFuturo - bbdc['Close']) / bbdc['Close']\n",
    "bbdc = bbdc.dropna(axis=0)\n",
    "bbdc[f'RetornoAlvoBinProx{N_FUTURO}Dias'] = np.where(bbdc[f'RetornoAlvoProx{N_FUTURO}Dias%'] > 0 , 1 , 0 )\n"
   ]
  },
  {
   "cell_type": "code",
   "execution_count": 213,
   "metadata": {},
   "outputs": [
    {
     "data": {
      "text/html": [
       "<div>\n",
       "<style scoped>\n",
       "    .dataframe tbody tr th:only-of-type {\n",
       "        vertical-align: middle;\n",
       "    }\n",
       "\n",
       "    .dataframe tbody tr th {\n",
       "        vertical-align: top;\n",
       "    }\n",
       "\n",
       "    .dataframe thead th {\n",
       "        text-align: right;\n",
       "    }\n",
       "</style>\n",
       "<table border=\"1\" class=\"dataframe\">\n",
       "  <thead>\n",
       "    <tr style=\"text-align: right;\">\n",
       "      <th></th>\n",
       "      <th>Close</th>\n",
       "      <th>RSI</th>\n",
       "      <th>MACD_HISTOGRAM</th>\n",
       "      <th>BBANDL</th>\n",
       "      <th>BBANDM</th>\n",
       "      <th>BBANDU</th>\n",
       "      <th>EMA</th>\n",
       "      <th>Retorno5DiasPassados%</th>\n",
       "      <th>RetornoAlvoProx15Dias%</th>\n",
       "    </tr>\n",
       "    <tr>\n",
       "      <th>RetornoAlvoBinProx15Dias</th>\n",
       "      <th></th>\n",
       "      <th></th>\n",
       "      <th></th>\n",
       "      <th></th>\n",
       "      <th></th>\n",
       "      <th></th>\n",
       "      <th></th>\n",
       "      <th></th>\n",
       "      <th></th>\n",
       "    </tr>\n",
       "  </thead>\n",
       "  <tbody>\n",
       "    <tr>\n",
       "      <th>0</th>\n",
       "      <td>917</td>\n",
       "      <td>917</td>\n",
       "      <td>917</td>\n",
       "      <td>917</td>\n",
       "      <td>917</td>\n",
       "      <td>917</td>\n",
       "      <td>917</td>\n",
       "      <td>917</td>\n",
       "      <td>917</td>\n",
       "    </tr>\n",
       "    <tr>\n",
       "      <th>1</th>\n",
       "      <td>1073</td>\n",
       "      <td>1073</td>\n",
       "      <td>1073</td>\n",
       "      <td>1073</td>\n",
       "      <td>1073</td>\n",
       "      <td>1073</td>\n",
       "      <td>1073</td>\n",
       "      <td>1073</td>\n",
       "      <td>1073</td>\n",
       "    </tr>\n",
       "  </tbody>\n",
       "</table>\n",
       "</div>"
      ],
      "text/plain": [
       "                          Close   RSI  MACD_HISTOGRAM  BBANDL  BBANDM  BBANDU  \\\n",
       "RetornoAlvoBinProx15Dias                                                        \n",
       "0                           917   917             917     917     917     917   \n",
       "1                          1073  1073            1073    1073    1073    1073   \n",
       "\n",
       "                           EMA  Retorno5DiasPassados%  RetornoAlvoProx15Dias%  \n",
       "RetornoAlvoBinProx15Dias                                                       \n",
       "0                          917                    917                     917  \n",
       "1                         1073                   1073                    1073  "
      ]
     },
     "execution_count": 213,
     "metadata": {},
     "output_type": "execute_result"
    }
   ],
   "source": [
    "bbdc.groupby(f'RetornoAlvoBinProx{N_FUTURO}Dias').count()"
   ]
  },
  {
   "cell_type": "markdown",
   "metadata": {},
   "source": [
    "### Verifico as Correlações entre minhas variáveis com o alvo e entre si"
   ]
  },
  {
   "cell_type": "code",
   "execution_count": 214,
   "metadata": {},
   "outputs": [
    {
     "data": {
      "text/html": [
       "<div>\n",
       "<style scoped>\n",
       "    .dataframe tbody tr th:only-of-type {\n",
       "        vertical-align: middle;\n",
       "    }\n",
       "\n",
       "    .dataframe tbody tr th {\n",
       "        vertical-align: top;\n",
       "    }\n",
       "\n",
       "    .dataframe thead th {\n",
       "        text-align: right;\n",
       "    }\n",
       "</style>\n",
       "<table border=\"1\" class=\"dataframe\">\n",
       "  <thead>\n",
       "    <tr style=\"text-align: right;\">\n",
       "      <th></th>\n",
       "      <th>Close</th>\n",
       "      <th>RSI</th>\n",
       "      <th>MACD_HISTOGRAM</th>\n",
       "      <th>BBANDL</th>\n",
       "      <th>BBANDM</th>\n",
       "      <th>BBANDU</th>\n",
       "      <th>EMA</th>\n",
       "      <th>Retorno5DiasPassados%</th>\n",
       "      <th>RetornoAlvoProx15Dias%</th>\n",
       "      <th>RetornoAlvoBinProx15Dias</th>\n",
       "    </tr>\n",
       "  </thead>\n",
       "  <tbody>\n",
       "    <tr>\n",
       "      <th>Close</th>\n",
       "      <td>1.000000</td>\n",
       "      <td>0.063168</td>\n",
       "      <td>0.019702</td>\n",
       "      <td>0.996514</td>\n",
       "      <td>0.998367</td>\n",
       "      <td>0.996259</td>\n",
       "      <td>0.998951</td>\n",
       "      <td>0.027109</td>\n",
       "      <td>-0.105298</td>\n",
       "      <td>-0.092288</td>\n",
       "    </tr>\n",
       "    <tr>\n",
       "      <th>RSI</th>\n",
       "      <td>0.063168</td>\n",
       "      <td>1.000000</td>\n",
       "      <td>0.678770</td>\n",
       "      <td>0.020676</td>\n",
       "      <td>0.018275</td>\n",
       "      <td>0.015816</td>\n",
       "      <td>0.024567</td>\n",
       "      <td>0.689316</td>\n",
       "      <td>-0.115491</td>\n",
       "      <td>-0.123533</td>\n",
       "    </tr>\n",
       "    <tr>\n",
       "      <th>MACD_HISTOGRAM</th>\n",
       "      <td>0.019702</td>\n",
       "      <td>0.678770</td>\n",
       "      <td>1.000000</td>\n",
       "      <td>-0.029324</td>\n",
       "      <td>-0.029163</td>\n",
       "      <td>-0.028887</td>\n",
       "      <td>-0.018848</td>\n",
       "      <td>0.800401</td>\n",
       "      <td>-0.158729</td>\n",
       "      <td>-0.139056</td>\n",
       "    </tr>\n",
       "    <tr>\n",
       "      <th>BBANDL</th>\n",
       "      <td>0.996514</td>\n",
       "      <td>0.020676</td>\n",
       "      <td>-0.029324</td>\n",
       "      <td>1.000000</td>\n",
       "      <td>0.998003</td>\n",
       "      <td>0.992072</td>\n",
       "      <td>0.997888</td>\n",
       "      <td>-0.013962</td>\n",
       "      <td>-0.103251</td>\n",
       "      <td>-0.088727</td>\n",
       "    </tr>\n",
       "    <tr>\n",
       "      <th>BBANDM</th>\n",
       "      <td>0.998367</td>\n",
       "      <td>0.018275</td>\n",
       "      <td>-0.029163</td>\n",
       "      <td>0.998003</td>\n",
       "      <td>1.000000</td>\n",
       "      <td>0.998029</td>\n",
       "      <td>0.999877</td>\n",
       "      <td>-0.013722</td>\n",
       "      <td>-0.096216</td>\n",
       "      <td>-0.084254</td>\n",
       "    </tr>\n",
       "    <tr>\n",
       "      <th>BBANDU</th>\n",
       "      <td>0.996259</td>\n",
       "      <td>0.015816</td>\n",
       "      <td>-0.028887</td>\n",
       "      <td>0.992072</td>\n",
       "      <td>0.998029</td>\n",
       "      <td>1.000000</td>\n",
       "      <td>0.997897</td>\n",
       "      <td>-0.013428</td>\n",
       "      <td>-0.088847</td>\n",
       "      <td>-0.079477</td>\n",
       "    </tr>\n",
       "    <tr>\n",
       "      <th>EMA</th>\n",
       "      <td>0.998951</td>\n",
       "      <td>0.024567</td>\n",
       "      <td>-0.018848</td>\n",
       "      <td>0.997888</td>\n",
       "      <td>0.999877</td>\n",
       "      <td>0.997897</td>\n",
       "      <td>1.000000</td>\n",
       "      <td>-0.007650</td>\n",
       "      <td>-0.097508</td>\n",
       "      <td>-0.085586</td>\n",
       "    </tr>\n",
       "    <tr>\n",
       "      <th>Retorno5DiasPassados%</th>\n",
       "      <td>0.027109</td>\n",
       "      <td>0.689316</td>\n",
       "      <td>0.800401</td>\n",
       "      <td>-0.013962</td>\n",
       "      <td>-0.013722</td>\n",
       "      <td>-0.013428</td>\n",
       "      <td>-0.007650</td>\n",
       "      <td>1.000000</td>\n",
       "      <td>-0.178192</td>\n",
       "      <td>-0.131162</td>\n",
       "    </tr>\n",
       "    <tr>\n",
       "      <th>RetornoAlvoProx15Dias%</th>\n",
       "      <td>-0.105298</td>\n",
       "      <td>-0.115491</td>\n",
       "      <td>-0.158729</td>\n",
       "      <td>-0.103251</td>\n",
       "      <td>-0.096216</td>\n",
       "      <td>-0.088847</td>\n",
       "      <td>-0.097508</td>\n",
       "      <td>-0.178192</td>\n",
       "      <td>1.000000</td>\n",
       "      <td>0.703048</td>\n",
       "    </tr>\n",
       "    <tr>\n",
       "      <th>RetornoAlvoBinProx15Dias</th>\n",
       "      <td>-0.092288</td>\n",
       "      <td>-0.123533</td>\n",
       "      <td>-0.139056</td>\n",
       "      <td>-0.088727</td>\n",
       "      <td>-0.084254</td>\n",
       "      <td>-0.079477</td>\n",
       "      <td>-0.085586</td>\n",
       "      <td>-0.131162</td>\n",
       "      <td>0.703048</td>\n",
       "      <td>1.000000</td>\n",
       "    </tr>\n",
       "  </tbody>\n",
       "</table>\n",
       "</div>"
      ],
      "text/plain": [
       "                             Close       RSI  MACD_HISTOGRAM    BBANDL  \\\n",
       "Close                     1.000000  0.063168        0.019702  0.996514   \n",
       "RSI                       0.063168  1.000000        0.678770  0.020676   \n",
       "MACD_HISTOGRAM            0.019702  0.678770        1.000000 -0.029324   \n",
       "BBANDL                    0.996514  0.020676       -0.029324  1.000000   \n",
       "BBANDM                    0.998367  0.018275       -0.029163  0.998003   \n",
       "BBANDU                    0.996259  0.015816       -0.028887  0.992072   \n",
       "EMA                       0.998951  0.024567       -0.018848  0.997888   \n",
       "Retorno5DiasPassados%     0.027109  0.689316        0.800401 -0.013962   \n",
       "RetornoAlvoProx15Dias%   -0.105298 -0.115491       -0.158729 -0.103251   \n",
       "RetornoAlvoBinProx15Dias -0.092288 -0.123533       -0.139056 -0.088727   \n",
       "\n",
       "                            BBANDM    BBANDU       EMA  Retorno5DiasPassados%  \\\n",
       "Close                     0.998367  0.996259  0.998951               0.027109   \n",
       "RSI                       0.018275  0.015816  0.024567               0.689316   \n",
       "MACD_HISTOGRAM           -0.029163 -0.028887 -0.018848               0.800401   \n",
       "BBANDL                    0.998003  0.992072  0.997888              -0.013962   \n",
       "BBANDM                    1.000000  0.998029  0.999877              -0.013722   \n",
       "BBANDU                    0.998029  1.000000  0.997897              -0.013428   \n",
       "EMA                       0.999877  0.997897  1.000000              -0.007650   \n",
       "Retorno5DiasPassados%    -0.013722 -0.013428 -0.007650               1.000000   \n",
       "RetornoAlvoProx15Dias%   -0.096216 -0.088847 -0.097508              -0.178192   \n",
       "RetornoAlvoBinProx15Dias -0.084254 -0.079477 -0.085586              -0.131162   \n",
       "\n",
       "                          RetornoAlvoProx15Dias%  RetornoAlvoBinProx15Dias  \n",
       "Close                                  -0.105298                 -0.092288  \n",
       "RSI                                    -0.115491                 -0.123533  \n",
       "MACD_HISTOGRAM                         -0.158729                 -0.139056  \n",
       "BBANDL                                 -0.103251                 -0.088727  \n",
       "BBANDM                                 -0.096216                 -0.084254  \n",
       "BBANDU                                 -0.088847                 -0.079477  \n",
       "EMA                                    -0.097508                 -0.085586  \n",
       "Retorno5DiasPassados%                  -0.178192                 -0.131162  \n",
       "RetornoAlvoProx15Dias%                  1.000000                  0.703048  \n",
       "RetornoAlvoBinProx15Dias                0.703048                  1.000000  "
      ]
     },
     "execution_count": 214,
     "metadata": {},
     "output_type": "execute_result"
    }
   ],
   "source": [
    "bbdc.corr()"
   ]
  },
  {
   "cell_type": "markdown",
   "metadata": {},
   "source": [
    "### Modelagem"
   ]
  },
  {
   "cell_type": "code",
   "execution_count": 215,
   "metadata": {},
   "outputs": [],
   "source": [
    "bbdc.drop(columns=[f'RetornoAlvoProx{N_FUTURO}Dias%'],inplace=True)"
   ]
  },
  {
   "cell_type": "code",
   "execution_count": 216,
   "metadata": {},
   "outputs": [
    {
     "data": {
      "text/html": [
       "<div>\n",
       "<style scoped>\n",
       "    .dataframe tbody tr th:only-of-type {\n",
       "        vertical-align: middle;\n",
       "    }\n",
       "\n",
       "    .dataframe tbody tr th {\n",
       "        vertical-align: top;\n",
       "    }\n",
       "\n",
       "    .dataframe thead th {\n",
       "        text-align: right;\n",
       "    }\n",
       "</style>\n",
       "<table border=\"1\" class=\"dataframe\">\n",
       "  <thead>\n",
       "    <tr style=\"text-align: right;\">\n",
       "      <th></th>\n",
       "      <th>Close</th>\n",
       "      <th>RSI</th>\n",
       "      <th>MACD_HISTOGRAM</th>\n",
       "      <th>BBANDL</th>\n",
       "      <th>BBANDM</th>\n",
       "      <th>BBANDU</th>\n",
       "      <th>EMA</th>\n",
       "      <th>Retorno5DiasPassados%</th>\n",
       "      <th>RetornoAlvoBinProx15Dias</th>\n",
       "    </tr>\n",
       "  </thead>\n",
       "  <tbody>\n",
       "    <tr>\n",
       "      <th>9</th>\n",
       "      <td>14.30</td>\n",
       "      <td>26.316889</td>\n",
       "      <td>-0.048891</td>\n",
       "      <td>14.209411</td>\n",
       "      <td>14.366</td>\n",
       "      <td>14.522589</td>\n",
       "      <td>14.406354</td>\n",
       "      <td>-0.030508</td>\n",
       "      <td>0</td>\n",
       "    </tr>\n",
       "    <tr>\n",
       "      <th>10</th>\n",
       "      <td>14.08</td>\n",
       "      <td>18.253814</td>\n",
       "      <td>-0.044632</td>\n",
       "      <td>14.013566</td>\n",
       "      <td>14.318</td>\n",
       "      <td>14.622434</td>\n",
       "      <td>14.297569</td>\n",
       "      <td>-0.016760</td>\n",
       "      <td>0</td>\n",
       "    </tr>\n",
       "    <tr>\n",
       "      <th>11</th>\n",
       "      <td>14.08</td>\n",
       "      <td>18.253814</td>\n",
       "      <td>-0.028616</td>\n",
       "      <td>13.912918</td>\n",
       "      <td>14.248</td>\n",
       "      <td>14.583083</td>\n",
       "      <td>14.225046</td>\n",
       "      <td>-0.024255</td>\n",
       "      <td>0</td>\n",
       "    </tr>\n",
       "    <tr>\n",
       "      <th>12</th>\n",
       "      <td>14.70</td>\n",
       "      <td>65.201542</td>\n",
       "      <td>0.051806</td>\n",
       "      <td>13.787325</td>\n",
       "      <td>14.294</td>\n",
       "      <td>14.800675</td>\n",
       "      <td>14.383364</td>\n",
       "      <td>0.015895</td>\n",
       "      <td>0</td>\n",
       "    </tr>\n",
       "    <tr>\n",
       "      <th>13</th>\n",
       "      <td>14.05</td>\n",
       "      <td>37.202223</td>\n",
       "      <td>0.010885</td>\n",
       "      <td>13.692018</td>\n",
       "      <td>14.242</td>\n",
       "      <td>14.791982</td>\n",
       "      <td>14.272243</td>\n",
       "      <td>-0.018169</td>\n",
       "      <td>1</td>\n",
       "    </tr>\n",
       "  </tbody>\n",
       "</table>\n",
       "</div>"
      ],
      "text/plain": [
       "    Close        RSI  MACD_HISTOGRAM     BBANDL  BBANDM     BBANDU        EMA  \\\n",
       "9   14.30  26.316889       -0.048891  14.209411  14.366  14.522589  14.406354   \n",
       "10  14.08  18.253814       -0.044632  14.013566  14.318  14.622434  14.297569   \n",
       "11  14.08  18.253814       -0.028616  13.912918  14.248  14.583083  14.225046   \n",
       "12  14.70  65.201542        0.051806  13.787325  14.294  14.800675  14.383364   \n",
       "13  14.05  37.202223        0.010885  13.692018  14.242  14.791982  14.272243   \n",
       "\n",
       "    Retorno5DiasPassados%  RetornoAlvoBinProx15Dias  \n",
       "9               -0.030508                         0  \n",
       "10              -0.016760                         0  \n",
       "11              -0.024255                         0  \n",
       "12               0.015895                         0  \n",
       "13              -0.018169                         1  "
      ]
     },
     "execution_count": 216,
     "metadata": {},
     "output_type": "execute_result"
    }
   ],
   "source": [
    "bbdc.head()"
   ]
  },
  {
   "cell_type": "code",
   "execution_count": 217,
   "metadata": {},
   "outputs": [
    {
     "name": "stdout",
     "output_type": "stream",
     "text": [
      "(1492, 8) (1492,) (498, 8) (498,)\n"
     ]
    }
   ],
   "source": [
    "x = bbdc.drop(columns=[f'RetornoAlvoBinProx{N_FUTURO}Dias'])\n",
    "y = bbdc[f'RetornoAlvoBinProx{N_FUTURO}Dias']\n",
    "\n",
    "x_train , x_test , y_train , y_test = train_test_split(x,y,test_size=0.25,random_state=42)\n",
    "print(x_train.shape,y_train.shape,x_test.shape,y_test.shape)"
   ]
  },
  {
   "cell_type": "code",
   "execution_count": 218,
   "metadata": {},
   "outputs": [
    {
     "data": {
      "text/plain": [
       "LogisticRegression(C=1.0, class_weight=None, dual=False, fit_intercept=True,\n",
       "                   intercept_scaling=1, l1_ratio=None, max_iter=100,\n",
       "                   multi_class='auto', n_jobs=None, penalty='l2',\n",
       "                   random_state=None, solver='lbfgs', tol=0.0001, verbose=0,\n",
       "                   warm_start=False)"
      ]
     },
     "execution_count": 218,
     "metadata": {},
     "output_type": "execute_result"
    }
   ],
   "source": [
    "model_lr = LogisticRegression()\n",
    "model_lr.fit(x_train,y_train)"
   ]
  },
  {
   "cell_type": "markdown",
   "metadata": {},
   "source": [
    "### Verifico métricas do modelo na base de treinamento"
   ]
  },
  {
   "cell_type": "code",
   "execution_count": 219,
   "metadata": {},
   "outputs": [],
   "source": [
    "cutoff = 0.65\n",
    "def return_y_pred(x,model,treshold):\n",
    "    pred_proba = model.predict_proba(x)[:,1]\n",
    "    return binarize([pred_proba],treshold)[0]\n",
    "        "
   ]
  },
  {
   "cell_type": "code",
   "execution_count": 220,
   "metadata": {},
   "outputs": [],
   "source": [
    "y_pred_train_lr = return_y_pred(x_train,model_lr,cutoff)"
   ]
  },
  {
   "cell_type": "code",
   "execution_count": 221,
   "metadata": {
    "scrolled": true
   },
   "outputs": [
    {
     "name": "stdout",
     "output_type": "stream",
     "text": [
      "LOGISTIC REGRESSION TRAIN\n",
      "[[646  40]\n",
      " [669 137]]\n",
      "              precision    recall  f1-score   support\n",
      "\n",
      "           0       0.49      0.94      0.65       686\n",
      "           1       0.77      0.17      0.28       806\n",
      "\n",
      "    accuracy                           0.52      1492\n",
      "   macro avg       0.63      0.56      0.46      1492\n",
      "weighted avg       0.64      0.52      0.45      1492\n",
      "\n"
     ]
    }
   ],
   "source": [
    "print('LOGISTIC REGRESSION TRAIN')\n",
    "print(confusion_matrix(y_train,y_pred_train_lr))\n",
    "print(classification_report(y_train,y_pred_train_lr))"
   ]
  },
  {
   "cell_type": "markdown",
   "metadata": {},
   "source": [
    "### Verifico métricas do modelo na base de testes"
   ]
  },
  {
   "cell_type": "code",
   "execution_count": 222,
   "metadata": {},
   "outputs": [],
   "source": [
    "y_pred_test_lr = return_y_pred(x_test,model_lr,cutoff)"
   ]
  },
  {
   "cell_type": "code",
   "execution_count": 223,
   "metadata": {
    "scrolled": true
   },
   "outputs": [
    {
     "name": "stdout",
     "output_type": "stream",
     "text": [
      "LOGISTIC REGRESSION TEST\n",
      "[[210  21]\n",
      " [223  44]]\n",
      "              precision    recall  f1-score   support\n",
      "\n",
      "           0       0.48      0.91      0.63       231\n",
      "           1       0.68      0.16      0.27       267\n",
      "\n",
      "    accuracy                           0.51       498\n",
      "   macro avg       0.58      0.54      0.45       498\n",
      "weighted avg       0.59      0.51      0.44       498\n",
      "\n"
     ]
    }
   ],
   "source": [
    "print('LOGISTIC REGRESSION TEST')\n",
    "print(confusion_matrix(y_test,y_pred_test_lr))\n",
    "print(classification_report(y_test,y_pred_test_lr))"
   ]
  },
  {
   "cell_type": "markdown",
   "metadata": {},
   "source": [
    "### Comparo desempenho do modelo com o Buy & Hold"
   ]
  },
  {
   "cell_type": "code",
   "execution_count": 224,
   "metadata": {},
   "outputs": [],
   "source": [
    "def return_investment_trading(aport_value,X,model,cutoff,N_FUTURO):\n",
    "    \n",
    "    bbdc_graphic = X[['Close']]\n",
    "    total_X = X\n",
    "    bbdc_graphic['ModelDecision'] = return_y_pred(total_X,model,cutoff)\n",
    "    bbdc_graphic['RetornoDiaSeguinte%'] = (bbdc_graphic['Close'].shift(-1) - bbdc_graphic['Close']) / bbdc_graphic['Close']\n",
    "    bbdc_graphic.fillna(0.00,inplace=True)\n",
    "    \n",
    "    index_buy = -1\n",
    "    index_sell = -1\n",
    "    investment_values = [aport_value]\n",
    "    ops = []\n",
    "\n",
    "    #percorro todo o dataset linha a linha\n",
    "    for i in range(bbdc_graphic.shape[0]):\n",
    "        retorno_dia_seguinte_p = bbdc_graphic['RetornoDiaSeguinte%'].iloc[i]\n",
    "        model_decision = bbdc_graphic['ModelDecision'].iloc[i]\n",
    "\n",
    "        #Se o modelo mandou eu comprar\n",
    "        if model_decision == 1 and i >= index_sell:\n",
    "            index_buy = i\n",
    "            index_sell = i + N_FUTURO\n",
    "            if index_sell < bbdc_graphic.shape[0]:\n",
    "                ops.append(dict(index_buy=index_buy,index_sell=index_sell,\n",
    "                                profit=(bbdc_graphic['Close'].iloc[index_sell] - bbdc_graphic['Close'].iloc[index_buy])\n",
    "                                / bbdc_graphic['Close'].iloc[index_buy]))\n",
    "\n",
    "        if index_buy <= i <= index_sell:\n",
    "            iv =  investment_values[-1] * (1 + retorno_dia_seguinte_p) \n",
    "            investment_values.append(iv)\n",
    "        else:\n",
    "            investment_values.append(investment_values[-1])\n",
    "\n",
    "    del(investment_values[-1])\n",
    "    ops = pd.DataFrame(ops)\n",
    "    \n",
    "    return pd.Series(investment_values) , ops"
   ]
  },
  {
   "cell_type": "code",
   "execution_count": 225,
   "metadata": {},
   "outputs": [],
   "source": [
    "def return_investment_buy_and_hold(aport_value,X):\n",
    "    return pd.Series((aport_value / X['Close'].iloc[0]) * X['Close'])"
   ]
  },
  {
   "cell_type": "code",
   "execution_count": 226,
   "metadata": {},
   "outputs": [],
   "source": [
    "aport_value = 1000.00\n",
    "X = bbdc.drop(columns=[f'RetornoAlvoBinProx{N_FUTURO}Dias'])\n",
    "TradingResults , ops = return_investment_trading(aport_value=aport_value,X=X,model=model_lr,cutoff=cutoff,N_FUTURO=N_FUTURO)\n",
    "BHResults = return_investment_buy_and_hold(aport_value=aport_value,X=X)"
   ]
  },
  {
   "cell_type": "code",
   "execution_count": 227,
   "metadata": {},
   "outputs": [
    {
     "data": {
      "text/html": [
       "<div>\n",
       "<style scoped>\n",
       "    .dataframe tbody tr th:only-of-type {\n",
       "        vertical-align: middle;\n",
       "    }\n",
       "\n",
       "    .dataframe tbody tr th {\n",
       "        vertical-align: top;\n",
       "    }\n",
       "\n",
       "    .dataframe thead th {\n",
       "        text-align: right;\n",
       "    }\n",
       "</style>\n",
       "<table border=\"1\" class=\"dataframe\">\n",
       "  <thead>\n",
       "    <tr style=\"text-align: right;\">\n",
       "      <th></th>\n",
       "      <th>index_buy</th>\n",
       "      <th>index_sell</th>\n",
       "      <th>profit</th>\n",
       "    </tr>\n",
       "  </thead>\n",
       "  <tbody>\n",
       "    <tr>\n",
       "      <th>0</th>\n",
       "      <td>36</td>\n",
       "      <td>51</td>\n",
       "      <td>0.052819</td>\n",
       "    </tr>\n",
       "    <tr>\n",
       "      <th>1</th>\n",
       "      <td>98</td>\n",
       "      <td>113</td>\n",
       "      <td>-0.076583</td>\n",
       "    </tr>\n",
       "    <tr>\n",
       "      <th>2</th>\n",
       "      <td>121</td>\n",
       "      <td>136</td>\n",
       "      <td>0.086247</td>\n",
       "    </tr>\n",
       "    <tr>\n",
       "      <th>3</th>\n",
       "      <td>171</td>\n",
       "      <td>186</td>\n",
       "      <td>-0.090164</td>\n",
       "    </tr>\n",
       "    <tr>\n",
       "      <th>4</th>\n",
       "      <td>186</td>\n",
       "      <td>201</td>\n",
       "      <td>0.033333</td>\n",
       "    </tr>\n",
       "  </tbody>\n",
       "</table>\n",
       "</div>"
      ],
      "text/plain": [
       "   index_buy  index_sell    profit\n",
       "0         36          51  0.052819\n",
       "1         98         113 -0.076583\n",
       "2        121         136  0.086247\n",
       "3        171         186 -0.090164\n",
       "4        186         201  0.033333"
      ]
     },
     "execution_count": 227,
     "metadata": {},
     "output_type": "execute_result"
    }
   ],
   "source": [
    "ops.head()"
   ]
  },
  {
   "cell_type": "code",
   "execution_count": 228,
   "metadata": {},
   "outputs": [
    {
     "data": {
      "image/png": "[encoded data removed]",
      "text/plain": [
       "<Figure size 1440x864 with 1 Axes>"
      ]
     },
     "metadata": {
      "needs_background": "light"
     },
     "output_type": "display_data"
    }
   ],
   "source": [
    "fig  = plt.figure(figsize=(20,12))\n",
    "plt.plot(TradingResults,color='green',label='Trading')\n",
    "plt.plot(BHResults,color='black',label='Buy & Hold')\n",
    "plt.title('Logistic Regression Train/Test')\n",
    "plt.xlabel('Dias')\n",
    "plt.ylabel('Valor Investimento')\n",
    "plt.legend();\n",
    "plt.savefig('logistic-regression-train-test.png')"
   ]
  },
  {
   "cell_type": "code",
   "execution_count": 229,
   "metadata": {},
   "outputs": [
    {
     "name": "stdout",
     "output_type": "stream",
     "text": [
      "Profit Buy & Hold: 45.31 %\n",
      "Profit Trading: 341.49 %\n"
     ]
    }
   ],
   "source": [
    "profit_bh = BHResults.iloc[-1] - BHResults.iloc[0]\n",
    "profit_tr = TradingResults.iloc[-1] - TradingResults.iloc[0]\n",
    "\n",
    "profit_bh_p = round(profit_bh / BHResults.iloc[0] * 100 , 2)\n",
    "profit_tr_p = round(profit_tr / TradingResults.iloc[0] * 100 , 2)\n",
    "\n",
    "print(\"Profit Buy & Hold:\",profit_bh_p,'%')\n",
    "print(\"Profit Trading:\",profit_tr_p,'%')"
   ]
  },
  {
   "cell_type": "markdown",
   "metadata": {},
   "source": [
    "## VALIDAÇÃO"
   ]
  },
  {
   "cell_type": "code",
   "execution_count": 230,
   "metadata": {},
   "outputs": [
    {
     "data": {
      "text/html": [
       "<div>\n",
       "<style scoped>\n",
       "    .dataframe tbody tr th:only-of-type {\n",
       "        vertical-align: middle;\n",
       "    }\n",
       "\n",
       "    .dataframe tbody tr th {\n",
       "        vertical-align: top;\n",
       "    }\n",
       "\n",
       "    .dataframe thead th {\n",
       "        text-align: right;\n",
       "    }\n",
       "</style>\n",
       "<table border=\"1\" class=\"dataframe\">\n",
       "  <thead>\n",
       "    <tr style=\"text-align: right;\">\n",
       "      <th></th>\n",
       "      <th>Date</th>\n",
       "      <th>Open</th>\n",
       "      <th>High</th>\n",
       "      <th>Low</th>\n",
       "      <th>Close</th>\n",
       "      <th>Adj Close</th>\n",
       "      <th>Volume</th>\n",
       "    </tr>\n",
       "  </thead>\n",
       "  <tbody>\n",
       "    <tr>\n",
       "      <th>0</th>\n",
       "      <td>2015-02-23</td>\n",
       "      <td>23.000000</td>\n",
       "      <td>23.030001</td>\n",
       "      <td>22.780001</td>\n",
       "      <td>23.020000</td>\n",
       "      <td>12.132120</td>\n",
       "      <td>135400</td>\n",
       "    </tr>\n",
       "    <tr>\n",
       "      <th>1</th>\n",
       "      <td>2015-02-24</td>\n",
       "      <td>23.020000</td>\n",
       "      <td>23.040001</td>\n",
       "      <td>22.820000</td>\n",
       "      <td>23.000000</td>\n",
       "      <td>12.121583</td>\n",
       "      <td>149700</td>\n",
       "    </tr>\n",
       "    <tr>\n",
       "      <th>2</th>\n",
       "      <td>2015-02-25</td>\n",
       "      <td>23.110001</td>\n",
       "      <td>23.340000</td>\n",
       "      <td>22.910000</td>\n",
       "      <td>23.340000</td>\n",
       "      <td>12.300767</td>\n",
       "      <td>163100</td>\n",
       "    </tr>\n",
       "    <tr>\n",
       "      <th>3</th>\n",
       "      <td>2015-02-26</td>\n",
       "      <td>23.389999</td>\n",
       "      <td>23.570000</td>\n",
       "      <td>23.110001</td>\n",
       "      <td>23.530001</td>\n",
       "      <td>12.400903</td>\n",
       "      <td>264700</td>\n",
       "    </tr>\n",
       "    <tr>\n",
       "      <th>4</th>\n",
       "      <td>2015-02-27</td>\n",
       "      <td>23.629999</td>\n",
       "      <td>23.799999</td>\n",
       "      <td>23.400000</td>\n",
       "      <td>23.670000</td>\n",
       "      <td>12.474685</td>\n",
       "      <td>264800</td>\n",
       "    </tr>\n",
       "  </tbody>\n",
       "</table>\n",
       "</div>"
      ],
      "text/plain": [
       "         Date       Open       High        Low      Close  Adj Close  Volume\n",
       "0  2015-02-23  23.000000  23.030001  22.780001  23.020000  12.132120  135400\n",
       "1  2015-02-24  23.020000  23.040001  22.820000  23.000000  12.121583  149700\n",
       "2  2015-02-25  23.110001  23.340000  22.910000  23.340000  12.300767  163100\n",
       "3  2015-02-26  23.389999  23.570000  23.110001  23.530001  12.400903  264700\n",
       "4  2015-02-27  23.629999  23.799999  23.400000  23.670000  12.474685  264800"
      ]
     },
     "execution_count": 230,
     "metadata": {},
     "output_type": "execute_result"
    }
   ],
   "source": [
    "#bbdc_validation = yf.download('BBDC',start='2015-02-23',end='2021-01-10')\n",
    "#bbdc_validation.to_csv('bbdc-validation.csv')\n",
    "\n",
    "bbdc_validation = pd.read_csv('bbdc-validation.csv')\n",
    "bbdc_validation.head()"
   ]
  },
  {
   "cell_type": "code",
   "execution_count": 231,
   "metadata": {},
   "outputs": [],
   "source": [
    "bbdc_validation = bbdc_validation[['Close']]"
   ]
  },
  {
   "cell_type": "markdown",
   "metadata": {},
   "source": [
    "### Crio as Features"
   ]
  },
  {
   "cell_type": "code",
   "execution_count": 232,
   "metadata": {},
   "outputs": [],
   "source": [
    "bbdc_validation['RSI'] = ta.rsi(bbdc_validation['Close'],length=PERIODOS_RSI)\n",
    "bbdc_validation['MACD_HISTOGRAM'] = ta.macd(bbdc_validation['Close'],fast=MACD_FAST,slow=MACD_SLOW,signal=MACD_SIGNAL).iloc[:,1]\n",
    "bbdc_validation[['BBANDL','BBANDM','BBANDU']] = ta.bbands(bbdc_validation['Close'],length=PERIODOS_BBAND,std=2)\n",
    "bbdc_validation['EMA'] = ta.ema(bbdc_validation['Close'],length=PERIODOS_EMA)\n",
    "ClosePassado = bbdc_validation['Close'].shift(periods=N_ANTERIORES)\n",
    "ClosePassado.dropna(axis='index',inplace=True)\n",
    "\n",
    "bbdc_validation[f'Retorno{N_ANTERIORES}DiasPassados%'] = (bbdc_validation['Close'] - ClosePassado) / ClosePassado\n",
    "\n",
    "bbdc_validation.dropna(axis='index',inplace=True)"
   ]
  },
  {
   "cell_type": "markdown",
   "metadata": {},
   "source": [
    "### Crio o Alvo"
   ]
  },
  {
   "cell_type": "code",
   "execution_count": 233,
   "metadata": {},
   "outputs": [],
   "source": [
    "ClosesFuturo = bbdc_validation['Close'].shift(periods= -N_FUTURO)\n",
    "bbdc_validation[f'RetornoAlvoProx{N_FUTURO}Dias%'] = (ClosesFuturo - bbdc_validation['Close']) / bbdc_validation['Close']\n",
    "bbdc_validation = bbdc_validation.dropna(axis=0)\n",
    "bbdc_validation[f'RetornoAlvoBinProx{N_FUTURO}Dias'] = np.where(bbdc_validation[f'RetornoAlvoProx{N_FUTURO}Dias%'] > 0 , 1 , 0 )\n",
    "\n",
    "bbdc_validation.drop(columns=[f'RetornoAlvoProx{N_FUTURO}Dias%'],inplace=True)"
   ]
  },
  {
   "cell_type": "markdown",
   "metadata": {},
   "source": [
    "### Faço as predições"
   ]
  },
  {
   "cell_type": "code",
   "execution_count": 234,
   "metadata": {},
   "outputs": [],
   "source": [
    "x_validation = bbdc_validation.drop(columns=[f'RetornoAlvoBinProx{N_FUTURO}Dias'])\n",
    "y_validation  = bbdc_validation[f'RetornoAlvoBinProx{N_FUTURO}Dias']\n",
    "\n",
    "y_pred_validation = return_y_pred(x_validation,model_lr,cutoff)"
   ]
  },
  {
   "cell_type": "markdown",
   "metadata": {},
   "source": [
    "### Verifico as métricas"
   ]
  },
  {
   "cell_type": "code",
   "execution_count": 235,
   "metadata": {},
   "outputs": [
    {
     "name": "stdout",
     "output_type": "stream",
     "text": [
      "LOGISTIC REGRESSION VALIDATION\n",
      "[[699  52]\n",
      " [648  59]]\n",
      "              precision    recall  f1-score   support\n",
      "\n",
      "           0       0.52      0.93      0.67       751\n",
      "           1       0.53      0.08      0.14       707\n",
      "\n",
      "    accuracy                           0.52      1458\n",
      "   macro avg       0.53      0.51      0.41      1458\n",
      "weighted avg       0.53      0.52      0.41      1458\n",
      "\n"
     ]
    }
   ],
   "source": [
    "print('LOGISTIC REGRESSION VALIDATION')\n",
    "print(confusion_matrix(y_validation,y_pred_validation))\n",
    "print(classification_report(y_validation,y_pred_validation))"
   ]
  },
  {
   "cell_type": "markdown",
   "metadata": {},
   "source": [
    "### Comparo Buy & Hold com Trading"
   ]
  },
  {
   "cell_type": "code",
   "execution_count": 236,
   "metadata": {},
   "outputs": [],
   "source": [
    "aport_value = 1000.00\n",
    "X = bbdc_validation.drop(columns=[f'RetornoAlvoBinProx{N_FUTURO}Dias'])\n",
    "TradingResultsValidation , ops = return_investment_trading(aport_value=aport_value,X=X,model=model_lr,cutoff=cutoff,N_FUTURO=N_FUTURO)\n",
    "BHResultsValidation = return_investment_buy_and_hold(aport_value=aport_value,X=X)"
   ]
  },
  {
   "cell_type": "code",
   "execution_count": 237,
   "metadata": {},
   "outputs": [
    {
     "data": {
      "image/png": "[encoded data removed]",
      "text/plain": [
       "<Figure size 1440x864 with 1 Axes>"
      ]
     },
     "metadata": {
      "needs_background": "light"
     },
     "output_type": "display_data"
    }
   ],
   "source": [
    "fig  = plt.figure(figsize=(20,12))\n",
    "plt.plot(TradingResultsValidation,color='green',label='Trading')\n",
    "plt.plot(BHResultsValidation,color='black',label='Buy & Hold')\n",
    "plt.title('Logistic Regression Validation')\n",
    "plt.xlabel('Dias')\n",
    "plt.ylabel('Valor Investimento')\n",
    "plt.legend();\n",
    "plt.savefig('logistic-regression-validation.png')"
   ]
  },
  {
   "cell_type": "code",
   "execution_count": 238,
   "metadata": {},
   "outputs": [
    {
     "name": "stdout",
     "output_type": "stream",
     "text": [
      "Profit Buy & Hold: -63.13 %\n",
      "Profit Trading: -17.86 %\n"
     ]
    }
   ],
   "source": [
    "profit_bh = BHResultsValidation.iloc[-1] - BHResultsValidation.iloc[0]\n",
    "profit_tr = TradingResultsValidation.iloc[-1] - TradingResultsValidation.iloc[0]\n",
    "\n",
    "profit_bh_p = round(profit_bh / BHResultsValidation.iloc[0] * 100 , 2)\n",
    "profit_tr_p = round(profit_tr / TradingResultsValidation.iloc[0] * 100 , 2)\n",
    "\n",
    "print(\"Profit Buy & Hold:\",profit_bh_p,'%')\n",
    "print(\"Profit Trading:\",profit_tr_p,'%')"
   ]
  },
  {
   "cell_type": "code",
   "execution_count": null,
   "metadata": {},
   "outputs": [],
   "source": []
  },
  {
   "cell_type": "code",
   "execution_count": null,
   "metadata": {},
   "outputs": [],
   "source": []
  }
 ],
 "metadata": {
  "kernelspec": {
   "display_name": "Python 3",
   "language": "python",
   "name": "python3"
  },
  "language_info": {
   "codemirror_mode": {
    "name": "ipython",
    "version": 3
   },
   "file_extension": ".py",
   "mimetype": "text/x-python",
   "name": "python",
   "nbconvert_exporter": "python",
   "pygments_lexer": "ipython3",
   "version": "3.7.6"
  }
 },
 "nbformat": 4,
 "nbformat_minor": 4
}
