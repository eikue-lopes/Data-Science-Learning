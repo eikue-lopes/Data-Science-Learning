{
 "cells": [
  {
   "cell_type": "markdown",
   "metadata": {},
   "source": [
    "**Faço a importação do Pandas"
   ]
  },
  {
   "cell_type": "code",
   "execution_count": 17,
   "metadata": {},
   "outputs": [],
   "source": [
    "import pandas as pd"
   ]
  },
  {
   "cell_type": "markdown",
   "metadata": {},
   "source": [
    "**Acesso a documentação do Pandas**"
   ]
  },
  {
   "cell_type": "code",
   "execution_count": 18,
   "metadata": {},
   "outputs": [],
   "source": [
    "pd?"
   ]
  },
  {
   "cell_type": "markdown",
   "metadata": {},
   "source": [
    "**Crio minha primeira série"
   ]
  },
  {
   "cell_type": "code",
   "execution_count": 19,
   "metadata": {},
   "outputs": [
    {
     "data": {
      "text/plain": [
       "0    1\n",
       "1    2\n",
       "2    3\n",
       "3    4\n",
       "4    5\n",
       "dtype: int64"
      ]
     },
     "execution_count": 19,
     "metadata": {},
     "output_type": "execute_result"
    }
   ],
   "source": [
    "serie = pd.Series([1,2,3,4,5])\n",
    "serie"
   ]
  },
  {
   "cell_type": "markdown",
   "metadata": {},
   "source": [
    "**Crio outra série, porém definindo o nome dos indexes"
   ]
  },
  {
   "cell_type": "code",
   "execution_count": 20,
   "metadata": {},
   "outputs": [
    {
     "data": {
      "text/plain": [
       "I      1\n",
       "II     2\n",
       "III    3\n",
       "IV     4\n",
       "V      5\n",
       "dtype: int64"
      ]
     },
     "execution_count": 20,
     "metadata": {},
     "output_type": "execute_result"
    }
   ],
   "source": [
    "serie2 = pd.Series([1,2,3,4,5],index=['I','II','III','IV','V'])\n",
    "serie2"
   ]
  },
  {
   "cell_type": "markdown",
   "metadata": {},
   "source": [
    "**Acesso um valor dentro da série"
   ]
  },
  {
   "cell_type": "code",
   "execution_count": 21,
   "metadata": {},
   "outputs": [
    {
     "data": {
      "text/plain": [
       "5"
      ]
     },
     "execution_count": 21,
     "metadata": {},
     "output_type": "execute_result"
    }
   ],
   "source": [
    "serie2['V']"
   ]
  },
  {
   "cell_type": "markdown",
   "metadata": {},
   "source": [
    "**Acesso todos os valores da série com base em uma condição"
   ]
  },
  {
   "cell_type": "code",
   "execution_count": 22,
   "metadata": {},
   "outputs": [
    {
     "data": {
      "text/plain": [
       "II    2\n",
       "IV    4\n",
       "dtype: int64"
      ]
     },
     "execution_count": 22,
     "metadata": {},
     "output_type": "execute_result"
    }
   ],
   "source": [
    "serie2[serie2 % 2 == 0]"
   ]
  },
  {
   "cell_type": "markdown",
   "metadata": {},
   "source": [
    "**Dá pra aninhar as duas coisas"
   ]
  },
  {
   "cell_type": "code",
   "execution_count": 23,
   "metadata": {},
   "outputs": [
    {
     "data": {
      "text/plain": [
       "4"
      ]
     },
     "execution_count": 23,
     "metadata": {},
     "output_type": "execute_result"
    }
   ],
   "source": [
    "serie2[serie2 >= 4]['IV']"
   ]
  },
  {
   "cell_type": "markdown",
   "metadata": {},
   "source": [
    "**Consigo modificar valores em uma série"
   ]
  },
  {
   "cell_type": "code",
   "execution_count": 24,
   "metadata": {},
   "outputs": [
    {
     "data": {
      "text/plain": [
       "I       1\n",
       "II      2\n",
       "III    25\n",
       "IV      4\n",
       "V       5\n",
       "dtype: int64"
      ]
     },
     "execution_count": 24,
     "metadata": {},
     "output_type": "execute_result"
    }
   ],
   "source": [
    "serie2['III'] = 25\n",
    "serie2"
   ]
  },
  {
   "cell_type": "markdown",
   "metadata": {},
   "source": [
    "**Consigo criar séries a partir de dicionários"
   ]
  },
  {
   "cell_type": "code",
   "execution_count": 25,
   "metadata": {},
   "outputs": [
    {
     "data": {
      "text/plain": [
       "Flamengo            32\n",
       "São Paulo           35\n",
       "Atlético Mineiro    23\n",
       "Palmeiras           15\n",
       "dtype: int64"
      ]
     },
     "execution_count": 25,
     "metadata": {},
     "output_type": "execute_result"
    }
   ],
   "source": [
    "dic_serie = pd.Series({'Flamengo':32,'São Paulo':35,'Atlético Mineiro':23,'Palmeiras':15})\n",
    "dic_serie"
   ]
  },
  {
   "cell_type": "markdown",
   "metadata": {},
   "source": [
    "**Crio o meu primeiro DataFrame"
   ]
  },
  {
   "cell_type": "code",
   "execution_count": 26,
   "metadata": {},
   "outputs": [
    {
     "data": {
      "text/html": [
       "<div>\n",
       "<style scoped>\n",
       "    .dataframe tbody tr th:only-of-type {\n",
       "        vertical-align: middle;\n",
       "    }\n",
       "\n",
       "    .dataframe tbody tr th {\n",
       "        vertical-align: top;\n",
       "    }\n",
       "\n",
       "    .dataframe thead th {\n",
       "        text-align: right;\n",
       "    }\n",
       "</style>\n",
       "<table border=\"1\" class=\"dataframe\">\n",
       "  <thead>\n",
       "    <tr style=\"text-align: right;\">\n",
       "      <th></th>\n",
       "      <th>Refrigerante</th>\n",
       "      <th>Suco de Caixinha</th>\n",
       "    </tr>\n",
       "  </thead>\n",
       "  <tbody>\n",
       "    <tr>\n",
       "      <th>Glicose</th>\n",
       "      <td>0.402219</td>\n",
       "      <td>0.526785</td>\n",
       "    </tr>\n",
       "    <tr>\n",
       "      <th>Sódio</th>\n",
       "      <td>0.303773</td>\n",
       "      <td>0.313803</td>\n",
       "    </tr>\n",
       "    <tr>\n",
       "      <th>Corantes</th>\n",
       "      <td>0.038471</td>\n",
       "      <td>0.891745</td>\n",
       "    </tr>\n",
       "    <tr>\n",
       "      <th>Gorduras</th>\n",
       "      <td>0.735365</td>\n",
       "      <td>0.828539</td>\n",
       "    </tr>\n",
       "    <tr>\n",
       "      <th>Ácidos</th>\n",
       "      <td>0.462803</td>\n",
       "      <td>0.291928</td>\n",
       "    </tr>\n",
       "  </tbody>\n",
       "</table>\n",
       "</div>"
      ],
      "text/plain": [
       "          Refrigerante  Suco de Caixinha\n",
       "Glicose       0.402219          0.526785\n",
       "Sódio         0.303773          0.313803\n",
       "Corantes      0.038471          0.891745\n",
       "Gorduras      0.735365          0.828539\n",
       "Ácidos        0.462803          0.291928"
      ]
     },
     "execution_count": 26,
     "metadata": {},
     "output_type": "execute_result"
    }
   ],
   "source": [
    "import numpy as np\n",
    "#uso o método np.random.rand pra criar o meu array bidimensional que conterá os dados do DataFrame\n",
    "df = pd.DataFrame(np.random.rand(5,2),columns=['Refrigerante','Suco de Caixinha'],index=['Glicose','Sódio','Corantes','Gorduras','Ácidos'])\n",
    "df"
   ]
  },
  {
   "cell_type": "markdown",
   "metadata": {},
   "source": [
    "**Acesso os nomes das minhas colunas"
   ]
  },
  {
   "cell_type": "code",
   "execution_count": 27,
   "metadata": {},
   "outputs": [
    {
     "data": {
      "text/plain": [
       "Index(['Refrigerante', 'Suco de Caixinha'], dtype='object')"
      ]
     },
     "execution_count": 27,
     "metadata": {},
     "output_type": "execute_result"
    }
   ],
   "source": [
    "df.columns"
   ]
  },
  {
   "cell_type": "markdown",
   "metadata": {},
   "source": [
    "**Acesso os nomes das minha linhas"
   ]
  },
  {
   "cell_type": "code",
   "execution_count": 28,
   "metadata": {},
   "outputs": [
    {
     "data": {
      "text/plain": [
       "Index(['Glicose', 'Sódio', 'Corantes', 'Gorduras', 'Ácidos'], dtype='object')"
      ]
     },
     "execution_count": 28,
     "metadata": {},
     "output_type": "execute_result"
    }
   ],
   "source": [
    "df.index"
   ]
  },
  {
   "cell_type": "markdown",
   "metadata": {},
   "source": [
    "**Acesso os 5 primeiros registros do DataFrame"
   ]
  },
  {
   "cell_type": "code",
   "execution_count": 29,
   "metadata": {},
   "outputs": [
    {
     "data": {
      "text/html": [
       "<div>\n",
       "<style scoped>\n",
       "    .dataframe tbody tr th:only-of-type {\n",
       "        vertical-align: middle;\n",
       "    }\n",
       "\n",
       "    .dataframe tbody tr th {\n",
       "        vertical-align: top;\n",
       "    }\n",
       "\n",
       "    .dataframe thead th {\n",
       "        text-align: right;\n",
       "    }\n",
       "</style>\n",
       "<table border=\"1\" class=\"dataframe\">\n",
       "  <thead>\n",
       "    <tr style=\"text-align: right;\">\n",
       "      <th></th>\n",
       "      <th>Refrigerante</th>\n",
       "      <th>Suco de Caixinha</th>\n",
       "    </tr>\n",
       "  </thead>\n",
       "  <tbody>\n",
       "    <tr>\n",
       "      <th>Glicose</th>\n",
       "      <td>0.402219</td>\n",
       "      <td>0.526785</td>\n",
       "    </tr>\n",
       "    <tr>\n",
       "      <th>Sódio</th>\n",
       "      <td>0.303773</td>\n",
       "      <td>0.313803</td>\n",
       "    </tr>\n",
       "    <tr>\n",
       "      <th>Corantes</th>\n",
       "      <td>0.038471</td>\n",
       "      <td>0.891745</td>\n",
       "    </tr>\n",
       "    <tr>\n",
       "      <th>Gorduras</th>\n",
       "      <td>0.735365</td>\n",
       "      <td>0.828539</td>\n",
       "    </tr>\n",
       "    <tr>\n",
       "      <th>Ácidos</th>\n",
       "      <td>0.462803</td>\n",
       "      <td>0.291928</td>\n",
       "    </tr>\n",
       "  </tbody>\n",
       "</table>\n",
       "</div>"
      ],
      "text/plain": [
       "          Refrigerante  Suco de Caixinha\n",
       "Glicose       0.402219          0.526785\n",
       "Sódio         0.303773          0.313803\n",
       "Corantes      0.038471          0.891745\n",
       "Gorduras      0.735365          0.828539\n",
       "Ácidos        0.462803          0.291928"
      ]
     },
     "execution_count": 29,
     "metadata": {},
     "output_type": "execute_result"
    }
   ],
   "source": [
    "df.head()"
   ]
  },
  {
   "cell_type": "markdown",
   "metadata": {},
   "source": [
    "**Acesso os 5 últimos registros do DataFrame"
   ]
  },
  {
   "cell_type": "code",
   "execution_count": 30,
   "metadata": {},
   "outputs": [
    {
     "data": {
      "text/html": [
       "<div>\n",
       "<style scoped>\n",
       "    .dataframe tbody tr th:only-of-type {\n",
       "        vertical-align: middle;\n",
       "    }\n",
       "\n",
       "    .dataframe tbody tr th {\n",
       "        vertical-align: top;\n",
       "    }\n",
       "\n",
       "    .dataframe thead th {\n",
       "        text-align: right;\n",
       "    }\n",
       "</style>\n",
       "<table border=\"1\" class=\"dataframe\">\n",
       "  <thead>\n",
       "    <tr style=\"text-align: right;\">\n",
       "      <th></th>\n",
       "      <th>Refrigerante</th>\n",
       "      <th>Suco de Caixinha</th>\n",
       "    </tr>\n",
       "  </thead>\n",
       "  <tbody>\n",
       "    <tr>\n",
       "      <th>Glicose</th>\n",
       "      <td>0.402219</td>\n",
       "      <td>0.526785</td>\n",
       "    </tr>\n",
       "    <tr>\n",
       "      <th>Sódio</th>\n",
       "      <td>0.303773</td>\n",
       "      <td>0.313803</td>\n",
       "    </tr>\n",
       "    <tr>\n",
       "      <th>Corantes</th>\n",
       "      <td>0.038471</td>\n",
       "      <td>0.891745</td>\n",
       "    </tr>\n",
       "    <tr>\n",
       "      <th>Gorduras</th>\n",
       "      <td>0.735365</td>\n",
       "      <td>0.828539</td>\n",
       "    </tr>\n",
       "    <tr>\n",
       "      <th>Ácidos</th>\n",
       "      <td>0.462803</td>\n",
       "      <td>0.291928</td>\n",
       "    </tr>\n",
       "  </tbody>\n",
       "</table>\n",
       "</div>"
      ],
      "text/plain": [
       "          Refrigerante  Suco de Caixinha\n",
       "Glicose       0.402219          0.526785\n",
       "Sódio         0.303773          0.313803\n",
       "Corantes      0.038471          0.891745\n",
       "Gorduras      0.735365          0.828539\n",
       "Ácidos        0.462803          0.291928"
      ]
     },
     "execution_count": 30,
     "metadata": {},
     "output_type": "execute_result"
    }
   ],
   "source": [
    "df.tail()"
   ]
  },
  {
   "cell_type": "markdown",
   "metadata": {},
   "source": [
    "**Faço acesso a uma coluna específica"
   ]
  },
  {
   "cell_type": "code",
   "execution_count": 31,
   "metadata": {},
   "outputs": [
    {
     "data": {
      "text/plain": [
       "Glicose     0.526785\n",
       "Sódio       0.313803\n",
       "Corantes    0.891745\n",
       "Gorduras    0.828539\n",
       "Ácidos      0.291928\n",
       "Name: Suco de Caixinha, dtype: float64"
      ]
     },
     "execution_count": 31,
     "metadata": {},
     "output_type": "execute_result"
    }
   ],
   "source": [
    "df['Suco de Caixinha']"
   ]
  },
  {
   "cell_type": "markdown",
   "metadata": {},
   "source": [
    "**Tento fazer acesso a uma linha da mesma forma que acesso uma coluna"
   ]
  },
  {
   "cell_type": "code",
   "execution_count": 32,
   "metadata": {},
   "outputs": [],
   "source": [
    "#gerará um erro\n",
    "#o pandas entende que estou pedindo uma coluna, porém eu passei o nome de uma linha\n",
    "#df['Glicose'] "
   ]
  },
  {
   "cell_type": "markdown",
   "metadata": {},
   "source": [
    "**Como fazer acesso a uma linha"
   ]
  },
  {
   "cell_type": "code",
   "execution_count": 33,
   "metadata": {},
   "outputs": [
    {
     "data": {
      "text/plain": [
       "Refrigerante        0.402219\n",
       "Suco de Caixinha    0.526785\n",
       "Name: Glicose, dtype: float64"
      ]
     },
     "execution_count": 33,
     "metadata": {},
     "output_type": "execute_result"
    }
   ],
   "source": [
    "#uso loc para linhas cujo index sejam do tipo string e eu saiba o seu nome\n",
    "#retorna um objeto do tipo pandaSeries\n",
    "df.loc['Glicose']"
   ]
  },
  {
   "cell_type": "code",
   "execution_count": 34,
   "metadata": {},
   "outputs": [
    {
     "data": {
      "text/plain": [
       "Refrigerante        0.402219\n",
       "Suco de Caixinha    0.526785\n",
       "Name: Glicose, dtype: float64"
      ]
     },
     "execution_count": 34,
     "metadata": {},
     "output_type": "execute_result"
    }
   ],
   "source": [
    "#uso iloc para acessar linhas cujo nome eu não saiba ou não me lembre (assim considero a ordem das linhas no DF)\n",
    "#também retorna um objeto do tipo pandaSeries\n",
    "df.iloc[0]"
   ]
  },
  {
   "cell_type": "code",
   "execution_count": 35,
   "metadata": {},
   "outputs": [
    {
     "data": {
      "text/html": [
       "<div>\n",
       "<style scoped>\n",
       "    .dataframe tbody tr th:only-of-type {\n",
       "        vertical-align: middle;\n",
       "    }\n",
       "\n",
       "    .dataframe tbody tr th {\n",
       "        vertical-align: top;\n",
       "    }\n",
       "\n",
       "    .dataframe thead th {\n",
       "        text-align: right;\n",
       "    }\n",
       "</style>\n",
       "<table border=\"1\" class=\"dataframe\">\n",
       "  <thead>\n",
       "    <tr style=\"text-align: right;\">\n",
       "      <th></th>\n",
       "      <th>Refrigerante</th>\n",
       "      <th>Suco de Caixinha</th>\n",
       "    </tr>\n",
       "  </thead>\n",
       "  <tbody>\n",
       "    <tr>\n",
       "      <th>Sódio</th>\n",
       "      <td>0.303773</td>\n",
       "      <td>0.313803</td>\n",
       "    </tr>\n",
       "    <tr>\n",
       "      <th>Corantes</th>\n",
       "      <td>0.038471</td>\n",
       "      <td>0.891745</td>\n",
       "    </tr>\n",
       "  </tbody>\n",
       "</table>\n",
       "</div>"
      ],
      "text/plain": [
       "          Refrigerante  Suco de Caixinha\n",
       "Sódio         0.303773          0.313803\n",
       "Corantes      0.038471          0.891745"
      ]
     },
     "execution_count": 35,
     "metadata": {},
     "output_type": "execute_result"
    }
   ],
   "source": [
    "#Posso fazer da forma abaixo, quando quiser acessar mais de uma linha\n",
    "#retorna um outro dataframe\n",
    "df[1:3]\n",
    "#também poderia ter feito df.iloc[1:3]"
   ]
  },
  {
   "cell_type": "markdown",
   "metadata": {},
   "source": [
    "**Já criei um DataFrame do zero, agora eu carrego o meu primeiro DataFrame do disco pra memória"
   ]
  },
  {
   "cell_type": "code",
   "execution_count": 36,
   "metadata": {},
   "outputs": [],
   "source": [
    "df2 = pd.read_csv(\"dataset_Facebook.csv\",sep=';')"
   ]
  },
  {
   "cell_type": "markdown",
   "metadata": {},
   "source": [
    "**Acesso os nomes das colunas"
   ]
  },
  {
   "cell_type": "code",
   "execution_count": 37,
   "metadata": {},
   "outputs": [
    {
     "data": {
      "text/plain": [
       "Index(['Page total likes', 'Type', 'Category', 'Post Month', 'Post Weekday',\n",
       "       'Post Hour', 'Paid', 'Lifetime Post Total Reach',\n",
       "       'Lifetime Post Total Impressions', 'Lifetime Engaged Users',\n",
       "       'Lifetime Post Consumers', 'Lifetime Post Consumptions',\n",
       "       'Lifetime Post Impressions by people who have liked your Page',\n",
       "       'Lifetime Post reach by people who like your Page',\n",
       "       'Lifetime People who have liked your Page and engaged with your post',\n",
       "       'comment', 'like', 'share', 'Total Interactions'],\n",
       "      dtype='object')"
      ]
     },
     "execution_count": 37,
     "metadata": {},
     "output_type": "execute_result"
    }
   ],
   "source": [
    "df2.columns"
   ]
  },
  {
   "cell_type": "markdown",
   "metadata": {},
   "source": [
    "**Acesso os nomes dos index (linhas)"
   ]
  },
  {
   "cell_type": "code",
   "execution_count": 38,
   "metadata": {},
   "outputs": [
    {
     "data": {
      "text/plain": [
       "RangeIndex(start=0, stop=500, step=1)"
      ]
     },
     "execution_count": 38,
     "metadata": {},
     "output_type": "execute_result"
    }
   ],
   "source": [
    "df2.index"
   ]
  },
  {
   "cell_type": "markdown",
   "metadata": {},
   "source": [
    "**Acesso as dimensões do DataFrame"
   ]
  },
  {
   "cell_type": "code",
   "execution_count": 39,
   "metadata": {},
   "outputs": [
    {
     "data": {
      "text/plain": [
       "(500, 19)"
      ]
     },
     "execution_count": 39,
     "metadata": {},
     "output_type": "execute_result"
    }
   ],
   "source": [
    "df2.shape"
   ]
  },
  {
   "cell_type": "markdown",
   "metadata": {},
   "source": [
    "**Acesso uma coluna do dataframe"
   ]
  },
  {
   "cell_type": "code",
   "execution_count": 40,
   "metadata": {},
   "outputs": [
    {
     "data": {
      "text/plain": [
       "0       Photo\n",
       "1      Status\n",
       "2       Photo\n",
       "3       Photo\n",
       "4       Photo\n",
       "        ...  \n",
       "495     Photo\n",
       "496     Photo\n",
       "497     Photo\n",
       "498     Photo\n",
       "499     Photo\n",
       "Name: Type, Length: 500, dtype: object"
      ]
     },
     "execution_count": 40,
     "metadata": {},
     "output_type": "execute_result"
    }
   ],
   "source": [
    "df2['Type']"
   ]
  },
  {
   "cell_type": "markdown",
   "metadata": {},
   "source": [
    "**Acesso uma linha do DataFrame (esse Df tem linhas do tipo integer)"
   ]
  },
  {
   "cell_type": "code",
   "execution_count": 41,
   "metadata": {},
   "outputs": [
    {
     "data": {
      "text/plain": [
       "Page total likes                                                       138329\n",
       "Type                                                                    Photo\n",
       "Category                                                                    1\n",
       "Post Month                                                                 11\n",
       "Post Weekday                                                                7\n",
       "Post Hour                                                                   9\n",
       "Paid                                                                        0\n",
       "Lifetime Post Total Reach                                                4894\n",
       "Lifetime Post Total Impressions                                          8899\n",
       "Lifetime Engaged Users                                                    355\n",
       "Lifetime Post Consumers                                                   181\n",
       "Lifetime Post Consumptions                                                264\n",
       "Lifetime Post Impressions by people who have liked your Page             4914\n",
       "Lifetime Post reach by people who like your Page                         2712\n",
       "Lifetime People who have liked your Page and engaged with your post       246\n",
       "comment                                                                     9\n",
       "like                                                                      202\n",
       "share                                                                      31\n",
       "Total Interactions                                                        242\n",
       "Name: 52, dtype: object"
      ]
     },
     "execution_count": 41,
     "metadata": {},
     "output_type": "execute_result"
    }
   ],
   "source": [
    "df2.iloc[52]"
   ]
  },
  {
   "cell_type": "markdown",
   "metadata": {},
   "source": [
    "**Testo várias combinações de acesso a elementos no Df"
   ]
  },
  {
   "cell_type": "code",
   "execution_count": 42,
   "metadata": {},
   "outputs": [
    {
     "data": {
      "text/html": [
       "<div>\n",
       "<style scoped>\n",
       "    .dataframe tbody tr th:only-of-type {\n",
       "        vertical-align: middle;\n",
       "    }\n",
       "\n",
       "    .dataframe tbody tr th {\n",
       "        vertical-align: top;\n",
       "    }\n",
       "\n",
       "    .dataframe thead th {\n",
       "        text-align: right;\n",
       "    }\n",
       "</style>\n",
       "<table border=\"1\" class=\"dataframe\">\n",
       "  <thead>\n",
       "    <tr style=\"text-align: right;\">\n",
       "      <th></th>\n",
       "      <th>Page total likes</th>\n",
       "      <th>Type</th>\n",
       "      <th>Category</th>\n",
       "      <th>Post Month</th>\n",
       "      <th>Post Weekday</th>\n",
       "      <th>Post Hour</th>\n",
       "      <th>Paid</th>\n",
       "      <th>Lifetime Post Total Reach</th>\n",
       "      <th>Lifetime Post Total Impressions</th>\n",
       "      <th>Lifetime Engaged Users</th>\n",
       "      <th>Lifetime Post Consumers</th>\n",
       "      <th>Lifetime Post Consumptions</th>\n",
       "      <th>Lifetime Post Impressions by people who have liked your Page</th>\n",
       "      <th>Lifetime Post reach by people who like your Page</th>\n",
       "      <th>Lifetime People who have liked your Page and engaged with your post</th>\n",
       "      <th>comment</th>\n",
       "      <th>like</th>\n",
       "      <th>share</th>\n",
       "      <th>Total Interactions</th>\n",
       "    </tr>\n",
       "  </thead>\n",
       "  <tbody>\n",
       "    <tr>\n",
       "      <th>20</th>\n",
       "      <td>138414</td>\n",
       "      <td>Photo</td>\n",
       "      <td>2</td>\n",
       "      <td>12</td>\n",
       "      <td>1</td>\n",
       "      <td>3</td>\n",
       "      <td>0.0</td>\n",
       "      <td>2848</td>\n",
       "      <td>5066</td>\n",
       "      <td>200</td>\n",
       "      <td>142</td>\n",
       "      <td>184</td>\n",
       "      <td>3561</td>\n",
       "      <td>1963</td>\n",
       "      <td>157</td>\n",
       "      <td>3</td>\n",
       "      <td>66.0</td>\n",
       "      <td>12.0</td>\n",
       "      <td>81</td>\n",
       "    </tr>\n",
       "    <tr>\n",
       "      <th>21</th>\n",
       "      <td>138414</td>\n",
       "      <td>Photo</td>\n",
       "      <td>1</td>\n",
       "      <td>12</td>\n",
       "      <td>7</td>\n",
       "      <td>10</td>\n",
       "      <td>0.0</td>\n",
       "      <td>1384</td>\n",
       "      <td>2467</td>\n",
       "      <td>15</td>\n",
       "      <td>15</td>\n",
       "      <td>20</td>\n",
       "      <td>2196</td>\n",
       "      <td>1172</td>\n",
       "      <td>15</td>\n",
       "      <td>0</td>\n",
       "      <td>0.0</td>\n",
       "      <td>0.0</td>\n",
       "      <td>0</td>\n",
       "    </tr>\n",
       "    <tr>\n",
       "      <th>22</th>\n",
       "      <td>138414</td>\n",
       "      <td>Link</td>\n",
       "      <td>1</td>\n",
       "      <td>12</td>\n",
       "      <td>7</td>\n",
       "      <td>10</td>\n",
       "      <td>0.0</td>\n",
       "      <td>3454</td>\n",
       "      <td>6853</td>\n",
       "      <td>118</td>\n",
       "      <td>104</td>\n",
       "      <td>130</td>\n",
       "      <td>6282</td>\n",
       "      <td>3100</td>\n",
       "      <td>106</td>\n",
       "      <td>0</td>\n",
       "      <td>16.0</td>\n",
       "      <td>2.0</td>\n",
       "      <td>18</td>\n",
       "    </tr>\n",
       "    <tr>\n",
       "      <th>23</th>\n",
       "      <td>138414</td>\n",
       "      <td>Photo</td>\n",
       "      <td>3</td>\n",
       "      <td>12</td>\n",
       "      <td>7</td>\n",
       "      <td>3</td>\n",
       "      <td>0.0</td>\n",
       "      <td>2723</td>\n",
       "      <td>4888</td>\n",
       "      <td>176</td>\n",
       "      <td>118</td>\n",
       "      <td>143</td>\n",
       "      <td>2964</td>\n",
       "      <td>1621</td>\n",
       "      <td>143</td>\n",
       "      <td>0</td>\n",
       "      <td>72.0</td>\n",
       "      <td>24.0</td>\n",
       "      <td>96</td>\n",
       "    </tr>\n",
       "    <tr>\n",
       "      <th>24</th>\n",
       "      <td>138414</td>\n",
       "      <td>Status</td>\n",
       "      <td>2</td>\n",
       "      <td>12</td>\n",
       "      <td>6</td>\n",
       "      <td>10</td>\n",
       "      <td>0.0</td>\n",
       "      <td>8488</td>\n",
       "      <td>15294</td>\n",
       "      <td>1341</td>\n",
       "      <td>1270</td>\n",
       "      <td>1489</td>\n",
       "      <td>9684</td>\n",
       "      <td>5244</td>\n",
       "      <td>995</td>\n",
       "      <td>3</td>\n",
       "      <td>99.0</td>\n",
       "      <td>19.0</td>\n",
       "      <td>121</td>\n",
       "    </tr>\n",
       "    <tr>\n",
       "      <th>25</th>\n",
       "      <td>138458</td>\n",
       "      <td>Status</td>\n",
       "      <td>2</td>\n",
       "      <td>12</td>\n",
       "      <td>6</td>\n",
       "      <td>3</td>\n",
       "      <td>0.0</td>\n",
       "      <td>8284</td>\n",
       "      <td>15104</td>\n",
       "      <td>1521</td>\n",
       "      <td>1462</td>\n",
       "      <td>1711</td>\n",
       "      <td>10266</td>\n",
       "      <td>5372</td>\n",
       "      <td>1200</td>\n",
       "      <td>0</td>\n",
       "      <td>88.0</td>\n",
       "      <td>18.0</td>\n",
       "      <td>106</td>\n",
       "    </tr>\n",
       "    <tr>\n",
       "      <th>26</th>\n",
       "      <td>138458</td>\n",
       "      <td>Status</td>\n",
       "      <td>2</td>\n",
       "      <td>12</td>\n",
       "      <td>5</td>\n",
       "      <td>11</td>\n",
       "      <td>0.0</td>\n",
       "      <td>19552</td>\n",
       "      <td>34143</td>\n",
       "      <td>2806</td>\n",
       "      <td>2531</td>\n",
       "      <td>3420</td>\n",
       "      <td>17748</td>\n",
       "      <td>9824</td>\n",
       "      <td>1779</td>\n",
       "      <td>10</td>\n",
       "      <td>412.0</td>\n",
       "      <td>72.0</td>\n",
       "      <td>494</td>\n",
       "    </tr>\n",
       "    <tr>\n",
       "      <th>27</th>\n",
       "      <td>138458</td>\n",
       "      <td>Photo</td>\n",
       "      <td>3</td>\n",
       "      <td>12</td>\n",
       "      <td>5</td>\n",
       "      <td>3</td>\n",
       "      <td>0.0</td>\n",
       "      <td>2478</td>\n",
       "      <td>4306</td>\n",
       "      <td>212</td>\n",
       "      <td>124</td>\n",
       "      <td>149</td>\n",
       "      <td>2612</td>\n",
       "      <td>1443</td>\n",
       "      <td>166</td>\n",
       "      <td>0</td>\n",
       "      <td>100.0</td>\n",
       "      <td>17.0</td>\n",
       "      <td>117</td>\n",
       "    </tr>\n",
       "    <tr>\n",
       "      <th>28</th>\n",
       "      <td>138895</td>\n",
       "      <td>Photo</td>\n",
       "      <td>2</td>\n",
       "      <td>12</td>\n",
       "      <td>5</td>\n",
       "      <td>3</td>\n",
       "      <td>0.0</td>\n",
       "      <td>9560</td>\n",
       "      <td>18264</td>\n",
       "      <td>973</td>\n",
       "      <td>559</td>\n",
       "      <td>885</td>\n",
       "      <td>9217</td>\n",
       "      <td>4748</td>\n",
       "      <td>621</td>\n",
       "      <td>36</td>\n",
       "      <td>523.0</td>\n",
       "      <td>63.0</td>\n",
       "      <td>622</td>\n",
       "    </tr>\n",
       "    <tr>\n",
       "      <th>29</th>\n",
       "      <td>138895</td>\n",
       "      <td>Video</td>\n",
       "      <td>1</td>\n",
       "      <td>12</td>\n",
       "      <td>4</td>\n",
       "      <td>11</td>\n",
       "      <td>1.0</td>\n",
       "      <td>36208</td>\n",
       "      <td>61262</td>\n",
       "      <td>1141</td>\n",
       "      <td>1068</td>\n",
       "      <td>1728</td>\n",
       "      <td>30131</td>\n",
       "      <td>14112</td>\n",
       "      <td>559</td>\n",
       "      <td>18</td>\n",
       "      <td>143.0</td>\n",
       "      <td>13.0</td>\n",
       "      <td>174</td>\n",
       "    </tr>\n",
       "    <tr>\n",
       "      <th>30</th>\n",
       "      <td>138895</td>\n",
       "      <td>Photo</td>\n",
       "      <td>2</td>\n",
       "      <td>12</td>\n",
       "      <td>4</td>\n",
       "      <td>2</td>\n",
       "      <td>0.0</td>\n",
       "      <td>4940</td>\n",
       "      <td>9390</td>\n",
       "      <td>385</td>\n",
       "      <td>306</td>\n",
       "      <td>501</td>\n",
       "      <td>5860</td>\n",
       "      <td>2930</td>\n",
       "      <td>273</td>\n",
       "      <td>33</td>\n",
       "      <td>107.0</td>\n",
       "      <td>22.0</td>\n",
       "      <td>162</td>\n",
       "    </tr>\n",
       "    <tr>\n",
       "      <th>31</th>\n",
       "      <td>138895</td>\n",
       "      <td>Photo</td>\n",
       "      <td>2</td>\n",
       "      <td>12</td>\n",
       "      <td>3</td>\n",
       "      <td>10</td>\n",
       "      <td>0.0</td>\n",
       "      <td>1683</td>\n",
       "      <td>2929</td>\n",
       "      <td>192</td>\n",
       "      <td>171</td>\n",
       "      <td>221</td>\n",
       "      <td>1585</td>\n",
       "      <td>858</td>\n",
       "      <td>131</td>\n",
       "      <td>1</td>\n",
       "      <td>27.0</td>\n",
       "      <td>11.0</td>\n",
       "      <td>39</td>\n",
       "    </tr>\n",
       "    <tr>\n",
       "      <th>32</th>\n",
       "      <td>138895</td>\n",
       "      <td>Photo</td>\n",
       "      <td>3</td>\n",
       "      <td>12</td>\n",
       "      <td>3</td>\n",
       "      <td>3</td>\n",
       "      <td>0.0</td>\n",
       "      <td>5280</td>\n",
       "      <td>9578</td>\n",
       "      <td>368</td>\n",
       "      <td>237</td>\n",
       "      <td>345</td>\n",
       "      <td>4480</td>\n",
       "      <td>2422</td>\n",
       "      <td>268</td>\n",
       "      <td>2</td>\n",
       "      <td>155.0</td>\n",
       "      <td>47.0</td>\n",
       "      <td>204</td>\n",
       "    </tr>\n",
       "    <tr>\n",
       "      <th>33</th>\n",
       "      <td>138895</td>\n",
       "      <td>Photo</td>\n",
       "      <td>3</td>\n",
       "      <td>12</td>\n",
       "      <td>2</td>\n",
       "      <td>9</td>\n",
       "      <td>0.0</td>\n",
       "      <td>3002</td>\n",
       "      <td>5318</td>\n",
       "      <td>268</td>\n",
       "      <td>185</td>\n",
       "      <td>247</td>\n",
       "      <td>3039</td>\n",
       "      <td>1676</td>\n",
       "      <td>194</td>\n",
       "      <td>4</td>\n",
       "      <td>98.0</td>\n",
       "      <td>23.0</td>\n",
       "      <td>125</td>\n",
       "    </tr>\n",
       "    <tr>\n",
       "      <th>34</th>\n",
       "      <td>138895</td>\n",
       "      <td>Photo</td>\n",
       "      <td>1</td>\n",
       "      <td>12</td>\n",
       "      <td>2</td>\n",
       "      <td>3</td>\n",
       "      <td>0.0</td>\n",
       "      <td>3766</td>\n",
       "      <td>7149</td>\n",
       "      <td>298</td>\n",
       "      <td>260</td>\n",
       "      <td>431</td>\n",
       "      <td>5782</td>\n",
       "      <td>2938</td>\n",
       "      <td>244</td>\n",
       "      <td>2</td>\n",
       "      <td>56.0</td>\n",
       "      <td>17.0</td>\n",
       "      <td>75</td>\n",
       "    </tr>\n",
       "  </tbody>\n",
       "</table>\n",
       "</div>"
      ],
      "text/plain": [
       "    Page total likes    Type  Category  Post Month  Post Weekday  Post Hour  \\\n",
       "20            138414   Photo         2          12             1          3   \n",
       "21            138414   Photo         1          12             7         10   \n",
       "22            138414    Link         1          12             7         10   \n",
       "23            138414   Photo         3          12             7          3   \n",
       "24            138414  Status         2          12             6         10   \n",
       "25            138458  Status         2          12             6          3   \n",
       "26            138458  Status         2          12             5         11   \n",
       "27            138458   Photo         3          12             5          3   \n",
       "28            138895   Photo         2          12             5          3   \n",
       "29            138895   Video         1          12             4         11   \n",
       "30            138895   Photo         2          12             4          2   \n",
       "31            138895   Photo         2          12             3         10   \n",
       "32            138895   Photo         3          12             3          3   \n",
       "33            138895   Photo         3          12             2          9   \n",
       "34            138895   Photo         1          12             2          3   \n",
       "\n",
       "    Paid  Lifetime Post Total Reach  Lifetime Post Total Impressions  \\\n",
       "20   0.0                       2848                             5066   \n",
       "21   0.0                       1384                             2467   \n",
       "22   0.0                       3454                             6853   \n",
       "23   0.0                       2723                             4888   \n",
       "24   0.0                       8488                            15294   \n",
       "25   0.0                       8284                            15104   \n",
       "26   0.0                      19552                            34143   \n",
       "27   0.0                       2478                             4306   \n",
       "28   0.0                       9560                            18264   \n",
       "29   1.0                      36208                            61262   \n",
       "30   0.0                       4940                             9390   \n",
       "31   0.0                       1683                             2929   \n",
       "32   0.0                       5280                             9578   \n",
       "33   0.0                       3002                             5318   \n",
       "34   0.0                       3766                             7149   \n",
       "\n",
       "    Lifetime Engaged Users  Lifetime Post Consumers  \\\n",
       "20                     200                      142   \n",
       "21                      15                       15   \n",
       "22                     118                      104   \n",
       "23                     176                      118   \n",
       "24                    1341                     1270   \n",
       "25                    1521                     1462   \n",
       "26                    2806                     2531   \n",
       "27                     212                      124   \n",
       "28                     973                      559   \n",
       "29                    1141                     1068   \n",
       "30                     385                      306   \n",
       "31                     192                      171   \n",
       "32                     368                      237   \n",
       "33                     268                      185   \n",
       "34                     298                      260   \n",
       "\n",
       "    Lifetime Post Consumptions  \\\n",
       "20                         184   \n",
       "21                          20   \n",
       "22                         130   \n",
       "23                         143   \n",
       "24                        1489   \n",
       "25                        1711   \n",
       "26                        3420   \n",
       "27                         149   \n",
       "28                         885   \n",
       "29                        1728   \n",
       "30                         501   \n",
       "31                         221   \n",
       "32                         345   \n",
       "33                         247   \n",
       "34                         431   \n",
       "\n",
       "    Lifetime Post Impressions by people who have liked your Page  \\\n",
       "20                                               3561              \n",
       "21                                               2196              \n",
       "22                                               6282              \n",
       "23                                               2964              \n",
       "24                                               9684              \n",
       "25                                              10266              \n",
       "26                                              17748              \n",
       "27                                               2612              \n",
       "28                                               9217              \n",
       "29                                              30131              \n",
       "30                                               5860              \n",
       "31                                               1585              \n",
       "32                                               4480              \n",
       "33                                               3039              \n",
       "34                                               5782              \n",
       "\n",
       "    Lifetime Post reach by people who like your Page  \\\n",
       "20                                              1963   \n",
       "21                                              1172   \n",
       "22                                              3100   \n",
       "23                                              1621   \n",
       "24                                              5244   \n",
       "25                                              5372   \n",
       "26                                              9824   \n",
       "27                                              1443   \n",
       "28                                              4748   \n",
       "29                                             14112   \n",
       "30                                              2930   \n",
       "31                                               858   \n",
       "32                                              2422   \n",
       "33                                              1676   \n",
       "34                                              2938   \n",
       "\n",
       "    Lifetime People who have liked your Page and engaged with your post  \\\n",
       "20                                                157                     \n",
       "21                                                 15                     \n",
       "22                                                106                     \n",
       "23                                                143                     \n",
       "24                                                995                     \n",
       "25                                               1200                     \n",
       "26                                               1779                     \n",
       "27                                                166                     \n",
       "28                                                621                     \n",
       "29                                                559                     \n",
       "30                                                273                     \n",
       "31                                                131                     \n",
       "32                                                268                     \n",
       "33                                                194                     \n",
       "34                                                244                     \n",
       "\n",
       "    comment   like  share  Total Interactions  \n",
       "20        3   66.0   12.0                  81  \n",
       "21        0    0.0    0.0                   0  \n",
       "22        0   16.0    2.0                  18  \n",
       "23        0   72.0   24.0                  96  \n",
       "24        3   99.0   19.0                 121  \n",
       "25        0   88.0   18.0                 106  \n",
       "26       10  412.0   72.0                 494  \n",
       "27        0  100.0   17.0                 117  \n",
       "28       36  523.0   63.0                 622  \n",
       "29       18  143.0   13.0                 174  \n",
       "30       33  107.0   22.0                 162  \n",
       "31        1   27.0   11.0                  39  \n",
       "32        2  155.0   47.0                 204  \n",
       "33        4   98.0   23.0                 125  \n",
       "34        2   56.0   17.0                  75  "
      ]
     },
     "execution_count": 42,
     "metadata": {},
     "output_type": "execute_result"
    }
   ],
   "source": [
    "df2.iloc[20:35]"
   ]
  },
  {
   "cell_type": "code",
   "execution_count": 43,
   "metadata": {},
   "outputs": [
    {
     "data": {
      "text/plain": [
       "2"
      ]
     },
     "execution_count": 43,
     "metadata": {},
     "output_type": "execute_result"
    }
   ],
   "source": [
    "df2['Category'].iloc[12]"
   ]
  },
  {
   "cell_type": "code",
   "execution_count": 44,
   "metadata": {},
   "outputs": [
    {
     "data": {
      "text/plain": [
       "25    Status\n",
       "26    Status\n",
       "27     Photo\n",
       "28     Photo\n",
       "29     Video\n",
       "30     Photo\n",
       "31     Photo\n",
       "32     Photo\n",
       "33     Photo\n",
       "34     Photo\n",
       "35     Photo\n",
       "36     Photo\n",
       "37     Photo\n",
       "38    Status\n",
       "39     Photo\n",
       "40    Status\n",
       "41      Link\n",
       "42     Photo\n",
       "43      Link\n",
       "44     Photo\n",
       "Name: Type, dtype: object"
      ]
     },
     "execution_count": 44,
     "metadata": {},
     "output_type": "execute_result"
    }
   ],
   "source": [
    "df2['Type'].iloc[25:45]"
   ]
  },
  {
   "cell_type": "code",
   "execution_count": 45,
   "metadata": {},
   "outputs": [
    {
     "data": {
      "text/html": [
       "<div>\n",
       "<style scoped>\n",
       "    .dataframe tbody tr th:only-of-type {\n",
       "        vertical-align: middle;\n",
       "    }\n",
       "\n",
       "    .dataframe tbody tr th {\n",
       "        vertical-align: top;\n",
       "    }\n",
       "\n",
       "    .dataframe thead th {\n",
       "        text-align: right;\n",
       "    }\n",
       "</style>\n",
       "<table border=\"1\" class=\"dataframe\">\n",
       "  <thead>\n",
       "    <tr style=\"text-align: right;\">\n",
       "      <th></th>\n",
       "      <th>Page total likes</th>\n",
       "      <th>Type</th>\n",
       "      <th>Category</th>\n",
       "      <th>Post Month</th>\n",
       "      <th>Post Weekday</th>\n",
       "      <th>Post Hour</th>\n",
       "      <th>Paid</th>\n",
       "      <th>Lifetime Post Total Reach</th>\n",
       "      <th>Lifetime Post Total Impressions</th>\n",
       "      <th>Lifetime Engaged Users</th>\n",
       "      <th>Lifetime Post Consumers</th>\n",
       "      <th>Lifetime Post Consumptions</th>\n",
       "      <th>Lifetime Post Impressions by people who have liked your Page</th>\n",
       "      <th>Lifetime Post reach by people who like your Page</th>\n",
       "      <th>Lifetime People who have liked your Page and engaged with your post</th>\n",
       "      <th>comment</th>\n",
       "      <th>like</th>\n",
       "      <th>share</th>\n",
       "      <th>Total Interactions</th>\n",
       "    </tr>\n",
       "  </thead>\n",
       "  <tbody>\n",
       "    <tr>\n",
       "      <th>0</th>\n",
       "      <td>139441</td>\n",
       "      <td>Photo</td>\n",
       "      <td>2</td>\n",
       "      <td>12</td>\n",
       "      <td>4</td>\n",
       "      <td>3</td>\n",
       "      <td>0.0</td>\n",
       "      <td>2752</td>\n",
       "      <td>5091</td>\n",
       "      <td>178</td>\n",
       "      <td>109</td>\n",
       "      <td>159</td>\n",
       "      <td>3078</td>\n",
       "      <td>1640</td>\n",
       "      <td>119</td>\n",
       "      <td>4</td>\n",
       "      <td>79.0</td>\n",
       "      <td>17.0</td>\n",
       "      <td>100</td>\n",
       "    </tr>\n",
       "    <tr>\n",
       "      <th>2</th>\n",
       "      <td>139441</td>\n",
       "      <td>Photo</td>\n",
       "      <td>3</td>\n",
       "      <td>12</td>\n",
       "      <td>3</td>\n",
       "      <td>3</td>\n",
       "      <td>0.0</td>\n",
       "      <td>2413</td>\n",
       "      <td>4373</td>\n",
       "      <td>177</td>\n",
       "      <td>113</td>\n",
       "      <td>154</td>\n",
       "      <td>2812</td>\n",
       "      <td>1503</td>\n",
       "      <td>132</td>\n",
       "      <td>0</td>\n",
       "      <td>66.0</td>\n",
       "      <td>14.0</td>\n",
       "      <td>80</td>\n",
       "    </tr>\n",
       "    <tr>\n",
       "      <th>3</th>\n",
       "      <td>139441</td>\n",
       "      <td>Photo</td>\n",
       "      <td>2</td>\n",
       "      <td>12</td>\n",
       "      <td>2</td>\n",
       "      <td>10</td>\n",
       "      <td>1.0</td>\n",
       "      <td>50128</td>\n",
       "      <td>87991</td>\n",
       "      <td>2211</td>\n",
       "      <td>790</td>\n",
       "      <td>1119</td>\n",
       "      <td>61027</td>\n",
       "      <td>32048</td>\n",
       "      <td>1386</td>\n",
       "      <td>58</td>\n",
       "      <td>1572.0</td>\n",
       "      <td>147.0</td>\n",
       "      <td>1777</td>\n",
       "    </tr>\n",
       "    <tr>\n",
       "      <th>4</th>\n",
       "      <td>139441</td>\n",
       "      <td>Photo</td>\n",
       "      <td>2</td>\n",
       "      <td>12</td>\n",
       "      <td>2</td>\n",
       "      <td>3</td>\n",
       "      <td>0.0</td>\n",
       "      <td>7244</td>\n",
       "      <td>13594</td>\n",
       "      <td>671</td>\n",
       "      <td>410</td>\n",
       "      <td>580</td>\n",
       "      <td>6228</td>\n",
       "      <td>3200</td>\n",
       "      <td>396</td>\n",
       "      <td>19</td>\n",
       "      <td>325.0</td>\n",
       "      <td>49.0</td>\n",
       "      <td>393</td>\n",
       "    </tr>\n",
       "    <tr>\n",
       "      <th>6</th>\n",
       "      <td>139441</td>\n",
       "      <td>Photo</td>\n",
       "      <td>3</td>\n",
       "      <td>12</td>\n",
       "      <td>1</td>\n",
       "      <td>3</td>\n",
       "      <td>1.0</td>\n",
       "      <td>11692</td>\n",
       "      <td>19479</td>\n",
       "      <td>481</td>\n",
       "      <td>265</td>\n",
       "      <td>364</td>\n",
       "      <td>15432</td>\n",
       "      <td>9328</td>\n",
       "      <td>379</td>\n",
       "      <td>3</td>\n",
       "      <td>249.0</td>\n",
       "      <td>27.0</td>\n",
       "      <td>279</td>\n",
       "    </tr>\n",
       "    <tr>\n",
       "      <th>...</th>\n",
       "      <td>...</td>\n",
       "      <td>...</td>\n",
       "      <td>...</td>\n",
       "      <td>...</td>\n",
       "      <td>...</td>\n",
       "      <td>...</td>\n",
       "      <td>...</td>\n",
       "      <td>...</td>\n",
       "      <td>...</td>\n",
       "      <td>...</td>\n",
       "      <td>...</td>\n",
       "      <td>...</td>\n",
       "      <td>...</td>\n",
       "      <td>...</td>\n",
       "      <td>...</td>\n",
       "      <td>...</td>\n",
       "      <td>...</td>\n",
       "      <td>...</td>\n",
       "      <td>...</td>\n",
       "    </tr>\n",
       "    <tr>\n",
       "      <th>495</th>\n",
       "      <td>85093</td>\n",
       "      <td>Photo</td>\n",
       "      <td>3</td>\n",
       "      <td>1</td>\n",
       "      <td>7</td>\n",
       "      <td>2</td>\n",
       "      <td>0.0</td>\n",
       "      <td>4684</td>\n",
       "      <td>7536</td>\n",
       "      <td>733</td>\n",
       "      <td>708</td>\n",
       "      <td>985</td>\n",
       "      <td>4750</td>\n",
       "      <td>2876</td>\n",
       "      <td>392</td>\n",
       "      <td>5</td>\n",
       "      <td>53.0</td>\n",
       "      <td>26.0</td>\n",
       "      <td>84</td>\n",
       "    </tr>\n",
       "    <tr>\n",
       "      <th>496</th>\n",
       "      <td>81370</td>\n",
       "      <td>Photo</td>\n",
       "      <td>2</td>\n",
       "      <td>1</td>\n",
       "      <td>5</td>\n",
       "      <td>8</td>\n",
       "      <td>0.0</td>\n",
       "      <td>3480</td>\n",
       "      <td>6229</td>\n",
       "      <td>537</td>\n",
       "      <td>508</td>\n",
       "      <td>687</td>\n",
       "      <td>3961</td>\n",
       "      <td>2104</td>\n",
       "      <td>301</td>\n",
       "      <td>0</td>\n",
       "      <td>53.0</td>\n",
       "      <td>22.0</td>\n",
       "      <td>75</td>\n",
       "    </tr>\n",
       "    <tr>\n",
       "      <th>497</th>\n",
       "      <td>81370</td>\n",
       "      <td>Photo</td>\n",
       "      <td>1</td>\n",
       "      <td>1</td>\n",
       "      <td>5</td>\n",
       "      <td>2</td>\n",
       "      <td>0.0</td>\n",
       "      <td>3778</td>\n",
       "      <td>7216</td>\n",
       "      <td>625</td>\n",
       "      <td>572</td>\n",
       "      <td>795</td>\n",
       "      <td>4742</td>\n",
       "      <td>2388</td>\n",
       "      <td>363</td>\n",
       "      <td>4</td>\n",
       "      <td>93.0</td>\n",
       "      <td>18.0</td>\n",
       "      <td>115</td>\n",
       "    </tr>\n",
       "    <tr>\n",
       "      <th>498</th>\n",
       "      <td>81370</td>\n",
       "      <td>Photo</td>\n",
       "      <td>3</td>\n",
       "      <td>1</td>\n",
       "      <td>4</td>\n",
       "      <td>11</td>\n",
       "      <td>0.0</td>\n",
       "      <td>4156</td>\n",
       "      <td>7564</td>\n",
       "      <td>626</td>\n",
       "      <td>574</td>\n",
       "      <td>832</td>\n",
       "      <td>4534</td>\n",
       "      <td>2452</td>\n",
       "      <td>370</td>\n",
       "      <td>7</td>\n",
       "      <td>91.0</td>\n",
       "      <td>38.0</td>\n",
       "      <td>136</td>\n",
       "    </tr>\n",
       "    <tr>\n",
       "      <th>499</th>\n",
       "      <td>81370</td>\n",
       "      <td>Photo</td>\n",
       "      <td>2</td>\n",
       "      <td>1</td>\n",
       "      <td>4</td>\n",
       "      <td>4</td>\n",
       "      <td>NaN</td>\n",
       "      <td>4188</td>\n",
       "      <td>7292</td>\n",
       "      <td>564</td>\n",
       "      <td>524</td>\n",
       "      <td>743</td>\n",
       "      <td>3861</td>\n",
       "      <td>2200</td>\n",
       "      <td>316</td>\n",
       "      <td>0</td>\n",
       "      <td>91.0</td>\n",
       "      <td>28.0</td>\n",
       "      <td>119</td>\n",
       "    </tr>\n",
       "  </tbody>\n",
       "</table>\n",
       "<p>426 rows × 19 columns</p>\n",
       "</div>"
      ],
      "text/plain": [
       "     Page total likes   Type  Category  Post Month  Post Weekday  Post Hour  \\\n",
       "0              139441  Photo         2          12             4          3   \n",
       "2              139441  Photo         3          12             3          3   \n",
       "3              139441  Photo         2          12             2         10   \n",
       "4              139441  Photo         2          12             2          3   \n",
       "6              139441  Photo         3          12             1          3   \n",
       "..                ...    ...       ...         ...           ...        ...   \n",
       "495             85093  Photo         3           1             7          2   \n",
       "496             81370  Photo         2           1             5          8   \n",
       "497             81370  Photo         1           1             5          2   \n",
       "498             81370  Photo         3           1             4         11   \n",
       "499             81370  Photo         2           1             4          4   \n",
       "\n",
       "     Paid  Lifetime Post Total Reach  Lifetime Post Total Impressions  \\\n",
       "0     0.0                       2752                             5091   \n",
       "2     0.0                       2413                             4373   \n",
       "3     1.0                      50128                            87991   \n",
       "4     0.0                       7244                            13594   \n",
       "6     1.0                      11692                            19479   \n",
       "..    ...                        ...                              ...   \n",
       "495   0.0                       4684                             7536   \n",
       "496   0.0                       3480                             6229   \n",
       "497   0.0                       3778                             7216   \n",
       "498   0.0                       4156                             7564   \n",
       "499   NaN                       4188                             7292   \n",
       "\n",
       "     Lifetime Engaged Users  Lifetime Post Consumers  \\\n",
       "0                       178                      109   \n",
       "2                       177                      113   \n",
       "3                      2211                      790   \n",
       "4                       671                      410   \n",
       "6                       481                      265   \n",
       "..                      ...                      ...   \n",
       "495                     733                      708   \n",
       "496                     537                      508   \n",
       "497                     625                      572   \n",
       "498                     626                      574   \n",
       "499                     564                      524   \n",
       "\n",
       "     Lifetime Post Consumptions  \\\n",
       "0                           159   \n",
       "2                           154   \n",
       "3                          1119   \n",
       "4                           580   \n",
       "6                           364   \n",
       "..                          ...   \n",
       "495                         985   \n",
       "496                         687   \n",
       "497                         795   \n",
       "498                         832   \n",
       "499                         743   \n",
       "\n",
       "     Lifetime Post Impressions by people who have liked your Page  \\\n",
       "0                                                 3078              \n",
       "2                                                 2812              \n",
       "3                                                61027              \n",
       "4                                                 6228              \n",
       "6                                                15432              \n",
       "..                                                 ...              \n",
       "495                                               4750              \n",
       "496                                               3961              \n",
       "497                                               4742              \n",
       "498                                               4534              \n",
       "499                                               3861              \n",
       "\n",
       "     Lifetime Post reach by people who like your Page  \\\n",
       "0                                                1640   \n",
       "2                                                1503   \n",
       "3                                               32048   \n",
       "4                                                3200   \n",
       "6                                                9328   \n",
       "..                                                ...   \n",
       "495                                              2876   \n",
       "496                                              2104   \n",
       "497                                              2388   \n",
       "498                                              2452   \n",
       "499                                              2200   \n",
       "\n",
       "     Lifetime People who have liked your Page and engaged with your post  \\\n",
       "0                                                  119                     \n",
       "2                                                  132                     \n",
       "3                                                 1386                     \n",
       "4                                                  396                     \n",
       "6                                                  379                     \n",
       "..                                                 ...                     \n",
       "495                                                392                     \n",
       "496                                                301                     \n",
       "497                                                363                     \n",
       "498                                                370                     \n",
       "499                                                316                     \n",
       "\n",
       "     comment    like  share  Total Interactions  \n",
       "0          4    79.0   17.0                 100  \n",
       "2          0    66.0   14.0                  80  \n",
       "3         58  1572.0  147.0                1777  \n",
       "4         19   325.0   49.0                 393  \n",
       "6          3   249.0   27.0                 279  \n",
       "..       ...     ...    ...                 ...  \n",
       "495        5    53.0   26.0                  84  \n",
       "496        0    53.0   22.0                  75  \n",
       "497        4    93.0   18.0                 115  \n",
       "498        7    91.0   38.0                 136  \n",
       "499        0    91.0   28.0                 119  \n",
       "\n",
       "[426 rows x 19 columns]"
      ]
     },
     "execution_count": 45,
     "metadata": {},
     "output_type": "execute_result"
    }
   ],
   "source": [
    "df2[df2['Type'] == 'Photo']"
   ]
  },
  {
   "cell_type": "code",
   "execution_count": 46,
   "metadata": {},
   "outputs": [
    {
     "data": {
      "text/html": [
       "<div>\n",
       "<style scoped>\n",
       "    .dataframe tbody tr th:only-of-type {\n",
       "        vertical-align: middle;\n",
       "    }\n",
       "\n",
       "    .dataframe tbody tr th {\n",
       "        vertical-align: top;\n",
       "    }\n",
       "\n",
       "    .dataframe thead th {\n",
       "        text-align: right;\n",
       "    }\n",
       "</style>\n",
       "<table border=\"1\" class=\"dataframe\">\n",
       "  <thead>\n",
       "    <tr style=\"text-align: right;\">\n",
       "      <th></th>\n",
       "      <th>Page total likes</th>\n",
       "      <th>Type</th>\n",
       "      <th>Category</th>\n",
       "      <th>Post Month</th>\n",
       "      <th>Post Weekday</th>\n",
       "      <th>Post Hour</th>\n",
       "      <th>Paid</th>\n",
       "      <th>Lifetime Post Total Reach</th>\n",
       "      <th>Lifetime Post Total Impressions</th>\n",
       "      <th>Lifetime Engaged Users</th>\n",
       "      <th>Lifetime Post Consumers</th>\n",
       "      <th>Lifetime Post Consumptions</th>\n",
       "      <th>Lifetime Post Impressions by people who have liked your Page</th>\n",
       "      <th>Lifetime Post reach by people who like your Page</th>\n",
       "      <th>Lifetime People who have liked your Page and engaged with your post</th>\n",
       "      <th>comment</th>\n",
       "      <th>like</th>\n",
       "      <th>share</th>\n",
       "      <th>Total Interactions</th>\n",
       "    </tr>\n",
       "  </thead>\n",
       "  <tbody>\n",
       "    <tr>\n",
       "      <th>98</th>\n",
       "      <td>137020</td>\n",
       "      <td>Status</td>\n",
       "      <td>2</td>\n",
       "      <td>10</td>\n",
       "      <td>5</td>\n",
       "      <td>3</td>\n",
       "      <td>1.0</td>\n",
       "      <td>12468</td>\n",
       "      <td>24917</td>\n",
       "      <td>2143</td>\n",
       "      <td>1966</td>\n",
       "      <td>2576</td>\n",
       "      <td>15850</td>\n",
       "      <td>7636</td>\n",
       "      <td>1661</td>\n",
       "      <td>7</td>\n",
       "      <td>310.0</td>\n",
       "      <td>61.0</td>\n",
       "      <td>378</td>\n",
       "    </tr>\n",
       "    <tr>\n",
       "      <th>142</th>\n",
       "      <td>136013</td>\n",
       "      <td>Status</td>\n",
       "      <td>2</td>\n",
       "      <td>10</td>\n",
       "      <td>3</td>\n",
       "      <td>2</td>\n",
       "      <td>1.0</td>\n",
       "      <td>31136</td>\n",
       "      <td>59964</td>\n",
       "      <td>6164</td>\n",
       "      <td>5934</td>\n",
       "      <td>9237</td>\n",
       "      <td>35977</td>\n",
       "      <td>18048</td>\n",
       "      <td>4376</td>\n",
       "      <td>60</td>\n",
       "      <td>859.0</td>\n",
       "      <td>90.0</td>\n",
       "      <td>1009</td>\n",
       "    </tr>\n",
       "    <tr>\n",
       "      <th>175</th>\n",
       "      <td>135195</td>\n",
       "      <td>Status</td>\n",
       "      <td>2</td>\n",
       "      <td>9</td>\n",
       "      <td>6</td>\n",
       "      <td>10</td>\n",
       "      <td>1.0</td>\n",
       "      <td>13216</td>\n",
       "      <td>24738</td>\n",
       "      <td>2675</td>\n",
       "      <td>2584</td>\n",
       "      <td>2969</td>\n",
       "      <td>19599</td>\n",
       "      <td>10232</td>\n",
       "      <td>2342</td>\n",
       "      <td>2</td>\n",
       "      <td>165.0</td>\n",
       "      <td>22.0</td>\n",
       "      <td>189</td>\n",
       "    </tr>\n",
       "    <tr>\n",
       "      <th>180</th>\n",
       "      <td>134879</td>\n",
       "      <td>Status</td>\n",
       "      <td>2</td>\n",
       "      <td>9</td>\n",
       "      <td>4</td>\n",
       "      <td>4</td>\n",
       "      <td>1.0</td>\n",
       "      <td>9124</td>\n",
       "      <td>17776</td>\n",
       "      <td>1476</td>\n",
       "      <td>1397</td>\n",
       "      <td>1797</td>\n",
       "      <td>13887</td>\n",
       "      <td>7092</td>\n",
       "      <td>1331</td>\n",
       "      <td>20</td>\n",
       "      <td>150.0</td>\n",
       "      <td>29.0</td>\n",
       "      <td>199</td>\n",
       "    </tr>\n",
       "    <tr>\n",
       "      <th>202</th>\n",
       "      <td>132817</td>\n",
       "      <td>Status</td>\n",
       "      <td>2</td>\n",
       "      <td>8</td>\n",
       "      <td>3</td>\n",
       "      <td>2</td>\n",
       "      <td>1.0</td>\n",
       "      <td>9236</td>\n",
       "      <td>16054</td>\n",
       "      <td>1151</td>\n",
       "      <td>1130</td>\n",
       "      <td>1560</td>\n",
       "      <td>14014</td>\n",
       "      <td>7880</td>\n",
       "      <td>1075</td>\n",
       "      <td>2</td>\n",
       "      <td>53.0</td>\n",
       "      <td>15.0</td>\n",
       "      <td>70</td>\n",
       "    </tr>\n",
       "    <tr>\n",
       "      <th>223</th>\n",
       "      <td>131808</td>\n",
       "      <td>Status</td>\n",
       "      <td>2</td>\n",
       "      <td>8</td>\n",
       "      <td>6</td>\n",
       "      <td>10</td>\n",
       "      <td>1.0</td>\n",
       "      <td>20168</td>\n",
       "      <td>35904</td>\n",
       "      <td>3370</td>\n",
       "      <td>3244</td>\n",
       "      <td>5106</td>\n",
       "      <td>26881</td>\n",
       "      <td>15056</td>\n",
       "      <td>2806</td>\n",
       "      <td>18</td>\n",
       "      <td>332.0</td>\n",
       "      <td>54.0</td>\n",
       "      <td>404</td>\n",
       "    </tr>\n",
       "    <tr>\n",
       "      <th>232</th>\n",
       "      <td>131630</td>\n",
       "      <td>Status</td>\n",
       "      <td>2</td>\n",
       "      <td>7</td>\n",
       "      <td>2</td>\n",
       "      <td>6</td>\n",
       "      <td>1.0</td>\n",
       "      <td>10824</td>\n",
       "      <td>20573</td>\n",
       "      <td>135</td>\n",
       "      <td>126</td>\n",
       "      <td>153</td>\n",
       "      <td>20030</td>\n",
       "      <td>10384</td>\n",
       "      <td>126</td>\n",
       "      <td>6</td>\n",
       "      <td>14.0</td>\n",
       "      <td>1.0</td>\n",
       "      <td>21</td>\n",
       "    </tr>\n",
       "    <tr>\n",
       "      <th>253</th>\n",
       "      <td>129600</td>\n",
       "      <td>Status</td>\n",
       "      <td>2</td>\n",
       "      <td>7</td>\n",
       "      <td>5</td>\n",
       "      <td>12</td>\n",
       "      <td>1.0</td>\n",
       "      <td>15576</td>\n",
       "      <td>27513</td>\n",
       "      <td>2417</td>\n",
       "      <td>2327</td>\n",
       "      <td>3098</td>\n",
       "      <td>19078</td>\n",
       "      <td>10840</td>\n",
       "      <td>1839</td>\n",
       "      <td>11</td>\n",
       "      <td>238.0</td>\n",
       "      <td>51.0</td>\n",
       "      <td>300</td>\n",
       "    </tr>\n",
       "    <tr>\n",
       "      <th>352</th>\n",
       "      <td>116435</td>\n",
       "      <td>Status</td>\n",
       "      <td>1</td>\n",
       "      <td>5</td>\n",
       "      <td>4</td>\n",
       "      <td>3</td>\n",
       "      <td>1.0</td>\n",
       "      <td>23832</td>\n",
       "      <td>42313</td>\n",
       "      <td>1701</td>\n",
       "      <td>1570</td>\n",
       "      <td>2838</td>\n",
       "      <td>37816</td>\n",
       "      <td>21352</td>\n",
       "      <td>1578</td>\n",
       "      <td>6</td>\n",
       "      <td>210.0</td>\n",
       "      <td>39.0</td>\n",
       "      <td>255</td>\n",
       "    </tr>\n",
       "    <tr>\n",
       "      <th>371</th>\n",
       "      <td>113028</td>\n",
       "      <td>Status</td>\n",
       "      <td>2</td>\n",
       "      <td>4</td>\n",
       "      <td>6</td>\n",
       "      <td>3</td>\n",
       "      <td>1.0</td>\n",
       "      <td>17912</td>\n",
       "      <td>34774</td>\n",
       "      <td>2750</td>\n",
       "      <td>2567</td>\n",
       "      <td>6591</td>\n",
       "      <td>21009</td>\n",
       "      <td>11408</td>\n",
       "      <td>2256</td>\n",
       "      <td>17</td>\n",
       "      <td>447.0</td>\n",
       "      <td>123.0</td>\n",
       "      <td>587</td>\n",
       "    </tr>\n",
       "  </tbody>\n",
       "</table>\n",
       "</div>"
      ],
      "text/plain": [
       "     Page total likes    Type  Category  Post Month  Post Weekday  Post Hour  \\\n",
       "98             137020  Status         2          10             5          3   \n",
       "142            136013  Status         2          10             3          2   \n",
       "175            135195  Status         2           9             6         10   \n",
       "180            134879  Status         2           9             4          4   \n",
       "202            132817  Status         2           8             3          2   \n",
       "223            131808  Status         2           8             6         10   \n",
       "232            131630  Status         2           7             2          6   \n",
       "253            129600  Status         2           7             5         12   \n",
       "352            116435  Status         1           5             4          3   \n",
       "371            113028  Status         2           4             6          3   \n",
       "\n",
       "     Paid  Lifetime Post Total Reach  Lifetime Post Total Impressions  \\\n",
       "98    1.0                      12468                            24917   \n",
       "142   1.0                      31136                            59964   \n",
       "175   1.0                      13216                            24738   \n",
       "180   1.0                       9124                            17776   \n",
       "202   1.0                       9236                            16054   \n",
       "223   1.0                      20168                            35904   \n",
       "232   1.0                      10824                            20573   \n",
       "253   1.0                      15576                            27513   \n",
       "352   1.0                      23832                            42313   \n",
       "371   1.0                      17912                            34774   \n",
       "\n",
       "     Lifetime Engaged Users  Lifetime Post Consumers  \\\n",
       "98                     2143                     1966   \n",
       "142                    6164                     5934   \n",
       "175                    2675                     2584   \n",
       "180                    1476                     1397   \n",
       "202                    1151                     1130   \n",
       "223                    3370                     3244   \n",
       "232                     135                      126   \n",
       "253                    2417                     2327   \n",
       "352                    1701                     1570   \n",
       "371                    2750                     2567   \n",
       "\n",
       "     Lifetime Post Consumptions  \\\n",
       "98                         2576   \n",
       "142                        9237   \n",
       "175                        2969   \n",
       "180                        1797   \n",
       "202                        1560   \n",
       "223                        5106   \n",
       "232                         153   \n",
       "253                        3098   \n",
       "352                        2838   \n",
       "371                        6591   \n",
       "\n",
       "     Lifetime Post Impressions by people who have liked your Page  \\\n",
       "98                                               15850              \n",
       "142                                              35977              \n",
       "175                                              19599              \n",
       "180                                              13887              \n",
       "202                                              14014              \n",
       "223                                              26881              \n",
       "232                                              20030              \n",
       "253                                              19078              \n",
       "352                                              37816              \n",
       "371                                              21009              \n",
       "\n",
       "     Lifetime Post reach by people who like your Page  \\\n",
       "98                                               7636   \n",
       "142                                             18048   \n",
       "175                                             10232   \n",
       "180                                              7092   \n",
       "202                                              7880   \n",
       "223                                             15056   \n",
       "232                                             10384   \n",
       "253                                             10840   \n",
       "352                                             21352   \n",
       "371                                             11408   \n",
       "\n",
       "     Lifetime People who have liked your Page and engaged with your post  \\\n",
       "98                                                1661                     \n",
       "142                                               4376                     \n",
       "175                                               2342                     \n",
       "180                                               1331                     \n",
       "202                                               1075                     \n",
       "223                                               2806                     \n",
       "232                                                126                     \n",
       "253                                               1839                     \n",
       "352                                               1578                     \n",
       "371                                               2256                     \n",
       "\n",
       "     comment   like  share  Total Interactions  \n",
       "98         7  310.0   61.0                 378  \n",
       "142       60  859.0   90.0                1009  \n",
       "175        2  165.0   22.0                 189  \n",
       "180       20  150.0   29.0                 199  \n",
       "202        2   53.0   15.0                  70  \n",
       "223       18  332.0   54.0                 404  \n",
       "232        6   14.0    1.0                  21  \n",
       "253       11  238.0   51.0                 300  \n",
       "352        6  210.0   39.0                 255  \n",
       "371       17  447.0  123.0                 587  "
      ]
     },
     "execution_count": 46,
     "metadata": {},
     "output_type": "execute_result"
    }
   ],
   "source": [
    "#Observação importante: Nesse tipo de acesso sempre isolar as condições entre parênteses e usar operadores lógicos bit a bit na comparação\n",
    "df2[(df2['Type'] == 'Status') & (df2['Paid'] == 1.0)]"
   ]
  },
  {
   "cell_type": "markdown",
   "metadata": {},
   "source": [
    "**Crio uma nova coluna no Dataframe\n",
    "    --Imagine que preciso saber a relação entre os comentários e os compartilhamentos de cada post"
   ]
  },
  {
   "cell_type": "code",
   "execution_count": 47,
   "metadata": {},
   "outputs": [],
   "source": [
    "df2['comment/share'] = df2['comment'] / df2['share']"
   ]
  },
  {
   "cell_type": "code",
   "execution_count": 48,
   "metadata": {},
   "outputs": [
    {
     "data": {
      "text/plain": [
       "Index(['Page total likes', 'Type', 'Category', 'Post Month', 'Post Weekday',\n",
       "       'Post Hour', 'Paid', 'Lifetime Post Total Reach',\n",
       "       'Lifetime Post Total Impressions', 'Lifetime Engaged Users',\n",
       "       'Lifetime Post Consumers', 'Lifetime Post Consumptions',\n",
       "       'Lifetime Post Impressions by people who have liked your Page',\n",
       "       'Lifetime Post reach by people who like your Page',\n",
       "       'Lifetime People who have liked your Page and engaged with your post',\n",
       "       'comment', 'like', 'share', 'Total Interactions', 'comment/share'],\n",
       "      dtype='object')"
      ]
     },
     "execution_count": 48,
     "metadata": {},
     "output_type": "execute_result"
    }
   ],
   "source": [
    "df2.columns"
   ]
  },
  {
   "cell_type": "markdown",
   "metadata": {},
   "source": [
    "**Posso também iterar meus registros no Df"
   ]
  },
  {
   "cell_type": "code",
   "execution_count": 49,
   "metadata": {},
   "outputs": [
    {
     "name": "stdout",
     "output_type": "stream",
     "text": [
      "0.0\n",
      "0.1388888888888889\n",
      "0.0\n",
      "0.5714285714285714\n",
      "1.3846153846153846\n",
      "1.5\n",
      "0.09090909090909091\n",
      "0.0425531914893617\n",
      "0.17391304347826086\n",
      "0.11764705882352941\n",
      "0.2857142857142857\n",
      "0.0\n",
      "2.0\n",
      "0.3548387096774194\n",
      "0.07142857142857142\n",
      "0.1794871794871795\n",
      "0.3333333333333333\n",
      "2.3333333333333335\n",
      "0.7\n",
      "0.0\n",
      "0.4\n",
      "0.1111111111111111\n",
      "0.75\n",
      "0.0\n",
      "1.0\n"
     ]
    }
   ],
   "source": [
    "for csh in df2['comment/share'].iloc[25:50]:\n",
    "    print(csh)"
   ]
  },
  {
   "cell_type": "markdown",
   "metadata": {},
   "source": [
    "**Consigo acessar medidas estatísticas do Df inteiro, de alguma(s) coluna(s) específica(s), de intervalo de linhas, etc :)\n",
    "algumas medidas desconsideram variáveis categóricas"
   ]
  },
  {
   "cell_type": "code",
   "execution_count": 50,
   "metadata": {},
   "outputs": [
    {
     "data": {
      "text/html": [
       "<div>\n",
       "<style scoped>\n",
       "    .dataframe tbody tr th:only-of-type {\n",
       "        vertical-align: middle;\n",
       "    }\n",
       "\n",
       "    .dataframe tbody tr th {\n",
       "        vertical-align: top;\n",
       "    }\n",
       "\n",
       "    .dataframe thead th {\n",
       "        text-align: right;\n",
       "    }\n",
       "</style>\n",
       "<table border=\"1\" class=\"dataframe\">\n",
       "  <thead>\n",
       "    <tr style=\"text-align: right;\">\n",
       "      <th></th>\n",
       "      <th>Page total likes</th>\n",
       "      <th>Category</th>\n",
       "      <th>Post Month</th>\n",
       "      <th>Post Weekday</th>\n",
       "      <th>Post Hour</th>\n",
       "      <th>Paid</th>\n",
       "      <th>Lifetime Post Total Reach</th>\n",
       "      <th>Lifetime Post Total Impressions</th>\n",
       "      <th>Lifetime Engaged Users</th>\n",
       "      <th>Lifetime Post Consumers</th>\n",
       "      <th>Lifetime Post Consumptions</th>\n",
       "      <th>Lifetime Post Impressions by people who have liked your Page</th>\n",
       "      <th>Lifetime Post reach by people who like your Page</th>\n",
       "      <th>Lifetime People who have liked your Page and engaged with your post</th>\n",
       "      <th>comment</th>\n",
       "      <th>like</th>\n",
       "      <th>share</th>\n",
       "      <th>Total Interactions</th>\n",
       "      <th>comment/share</th>\n",
       "    </tr>\n",
       "  </thead>\n",
       "  <tbody>\n",
       "    <tr>\n",
       "      <th>count</th>\n",
       "      <td>500.000000</td>\n",
       "      <td>500.000000</td>\n",
       "      <td>500.000000</td>\n",
       "      <td>500.000000</td>\n",
       "      <td>500.000000</td>\n",
       "      <td>499.000000</td>\n",
       "      <td>500.00000</td>\n",
       "      <td>5.000000e+02</td>\n",
       "      <td>500.000000</td>\n",
       "      <td>500.000000</td>\n",
       "      <td>500.000000</td>\n",
       "      <td>5.000000e+02</td>\n",
       "      <td>500.000000</td>\n",
       "      <td>500.000000</td>\n",
       "      <td>500.00000</td>\n",
       "      <td>499.000000</td>\n",
       "      <td>496.000000</td>\n",
       "      <td>500.000000</td>\n",
       "      <td>484.000000</td>\n",
       "    </tr>\n",
       "    <tr>\n",
       "      <th>mean</th>\n",
       "      <td>123194.176000</td>\n",
       "      <td>1.880000</td>\n",
       "      <td>7.038000</td>\n",
       "      <td>4.150000</td>\n",
       "      <td>7.840000</td>\n",
       "      <td>0.278557</td>\n",
       "      <td>13903.36000</td>\n",
       "      <td>2.958595e+04</td>\n",
       "      <td>920.344000</td>\n",
       "      <td>798.772000</td>\n",
       "      <td>1415.130000</td>\n",
       "      <td>1.676638e+04</td>\n",
       "      <td>6585.488000</td>\n",
       "      <td>609.986000</td>\n",
       "      <td>7.48200</td>\n",
       "      <td>177.945892</td>\n",
       "      <td>27.266129</td>\n",
       "      <td>212.120000</td>\n",
       "      <td>inf</td>\n",
       "    </tr>\n",
       "    <tr>\n",
       "      <th>std</th>\n",
       "      <td>16272.813214</td>\n",
       "      <td>0.852675</td>\n",
       "      <td>3.307936</td>\n",
       "      <td>2.030701</td>\n",
       "      <td>4.368589</td>\n",
       "      <td>0.448739</td>\n",
       "      <td>22740.78789</td>\n",
       "      <td>7.680325e+04</td>\n",
       "      <td>985.016636</td>\n",
       "      <td>882.505013</td>\n",
       "      <td>2000.594118</td>\n",
       "      <td>5.979102e+04</td>\n",
       "      <td>7682.009405</td>\n",
       "      <td>612.725618</td>\n",
       "      <td>21.18091</td>\n",
       "      <td>323.398742</td>\n",
       "      <td>42.613292</td>\n",
       "      <td>380.233118</td>\n",
       "      <td>NaN</td>\n",
       "    </tr>\n",
       "    <tr>\n",
       "      <th>min</th>\n",
       "      <td>81370.000000</td>\n",
       "      <td>1.000000</td>\n",
       "      <td>1.000000</td>\n",
       "      <td>1.000000</td>\n",
       "      <td>1.000000</td>\n",
       "      <td>0.000000</td>\n",
       "      <td>238.00000</td>\n",
       "      <td>5.700000e+02</td>\n",
       "      <td>9.000000</td>\n",
       "      <td>9.000000</td>\n",
       "      <td>9.000000</td>\n",
       "      <td>5.670000e+02</td>\n",
       "      <td>236.000000</td>\n",
       "      <td>9.000000</td>\n",
       "      <td>0.00000</td>\n",
       "      <td>0.000000</td>\n",
       "      <td>0.000000</td>\n",
       "      <td>0.000000</td>\n",
       "      <td>0.000000</td>\n",
       "    </tr>\n",
       "    <tr>\n",
       "      <th>25%</th>\n",
       "      <td>112676.000000</td>\n",
       "      <td>1.000000</td>\n",
       "      <td>4.000000</td>\n",
       "      <td>2.000000</td>\n",
       "      <td>3.000000</td>\n",
       "      <td>0.000000</td>\n",
       "      <td>3315.00000</td>\n",
       "      <td>5.694750e+03</td>\n",
       "      <td>393.750000</td>\n",
       "      <td>332.500000</td>\n",
       "      <td>509.250000</td>\n",
       "      <td>3.969750e+03</td>\n",
       "      <td>2181.500000</td>\n",
       "      <td>291.000000</td>\n",
       "      <td>1.00000</td>\n",
       "      <td>56.500000</td>\n",
       "      <td>10.000000</td>\n",
       "      <td>71.000000</td>\n",
       "      <td>0.051974</td>\n",
       "    </tr>\n",
       "    <tr>\n",
       "      <th>50%</th>\n",
       "      <td>129600.000000</td>\n",
       "      <td>2.000000</td>\n",
       "      <td>7.000000</td>\n",
       "      <td>4.000000</td>\n",
       "      <td>9.000000</td>\n",
       "      <td>0.000000</td>\n",
       "      <td>5281.00000</td>\n",
       "      <td>9.051000e+03</td>\n",
       "      <td>625.500000</td>\n",
       "      <td>551.500000</td>\n",
       "      <td>851.000000</td>\n",
       "      <td>6.255500e+03</td>\n",
       "      <td>3417.000000</td>\n",
       "      <td>412.000000</td>\n",
       "      <td>3.00000</td>\n",
       "      <td>101.000000</td>\n",
       "      <td>19.000000</td>\n",
       "      <td>123.500000</td>\n",
       "      <td>0.150000</td>\n",
       "    </tr>\n",
       "    <tr>\n",
       "      <th>75%</th>\n",
       "      <td>136393.000000</td>\n",
       "      <td>3.000000</td>\n",
       "      <td>10.000000</td>\n",
       "      <td>6.000000</td>\n",
       "      <td>11.000000</td>\n",
       "      <td>1.000000</td>\n",
       "      <td>13168.00000</td>\n",
       "      <td>2.208550e+04</td>\n",
       "      <td>1062.000000</td>\n",
       "      <td>955.500000</td>\n",
       "      <td>1463.000000</td>\n",
       "      <td>1.486050e+04</td>\n",
       "      <td>7989.000000</td>\n",
       "      <td>656.250000</td>\n",
       "      <td>7.00000</td>\n",
       "      <td>187.500000</td>\n",
       "      <td>32.250000</td>\n",
       "      <td>228.500000</td>\n",
       "      <td>0.307692</td>\n",
       "    </tr>\n",
       "    <tr>\n",
       "      <th>max</th>\n",
       "      <td>139441.000000</td>\n",
       "      <td>3.000000</td>\n",
       "      <td>12.000000</td>\n",
       "      <td>7.000000</td>\n",
       "      <td>23.000000</td>\n",
       "      <td>1.000000</td>\n",
       "      <td>180480.00000</td>\n",
       "      <td>1.110282e+06</td>\n",
       "      <td>11452.000000</td>\n",
       "      <td>11328.000000</td>\n",
       "      <td>19779.000000</td>\n",
       "      <td>1.107833e+06</td>\n",
       "      <td>51456.000000</td>\n",
       "      <td>4376.000000</td>\n",
       "      <td>372.00000</td>\n",
       "      <td>5172.000000</td>\n",
       "      <td>790.000000</td>\n",
       "      <td>6334.000000</td>\n",
       "      <td>inf</td>\n",
       "    </tr>\n",
       "  </tbody>\n",
       "</table>\n",
       "</div>"
      ],
      "text/plain": [
       "       Page total likes    Category  Post Month  Post Weekday   Post Hour  \\\n",
       "count        500.000000  500.000000  500.000000    500.000000  500.000000   \n",
       "mean      123194.176000    1.880000    7.038000      4.150000    7.840000   \n",
       "std        16272.813214    0.852675    3.307936      2.030701    4.368589   \n",
       "min        81370.000000    1.000000    1.000000      1.000000    1.000000   \n",
       "25%       112676.000000    1.000000    4.000000      2.000000    3.000000   \n",
       "50%       129600.000000    2.000000    7.000000      4.000000    9.000000   \n",
       "75%       136393.000000    3.000000   10.000000      6.000000   11.000000   \n",
       "max       139441.000000    3.000000   12.000000      7.000000   23.000000   \n",
       "\n",
       "             Paid  Lifetime Post Total Reach  Lifetime Post Total Impressions  \\\n",
       "count  499.000000                  500.00000                     5.000000e+02   \n",
       "mean     0.278557                13903.36000                     2.958595e+04   \n",
       "std      0.448739                22740.78789                     7.680325e+04   \n",
       "min      0.000000                  238.00000                     5.700000e+02   \n",
       "25%      0.000000                 3315.00000                     5.694750e+03   \n",
       "50%      0.000000                 5281.00000                     9.051000e+03   \n",
       "75%      1.000000                13168.00000                     2.208550e+04   \n",
       "max      1.000000               180480.00000                     1.110282e+06   \n",
       "\n",
       "       Lifetime Engaged Users  Lifetime Post Consumers  \\\n",
       "count              500.000000               500.000000   \n",
       "mean               920.344000               798.772000   \n",
       "std                985.016636               882.505013   \n",
       "min                  9.000000                 9.000000   \n",
       "25%                393.750000               332.500000   \n",
       "50%                625.500000               551.500000   \n",
       "75%               1062.000000               955.500000   \n",
       "max              11452.000000             11328.000000   \n",
       "\n",
       "       Lifetime Post Consumptions  \\\n",
       "count                  500.000000   \n",
       "mean                  1415.130000   \n",
       "std                   2000.594118   \n",
       "min                      9.000000   \n",
       "25%                    509.250000   \n",
       "50%                    851.000000   \n",
       "75%                   1463.000000   \n",
       "max                  19779.000000   \n",
       "\n",
       "       Lifetime Post Impressions by people who have liked your Page  \\\n",
       "count                                       5.000000e+02              \n",
       "mean                                        1.676638e+04              \n",
       "std                                         5.979102e+04              \n",
       "min                                         5.670000e+02              \n",
       "25%                                         3.969750e+03              \n",
       "50%                                         6.255500e+03              \n",
       "75%                                         1.486050e+04              \n",
       "max                                         1.107833e+06              \n",
       "\n",
       "       Lifetime Post reach by people who like your Page  \\\n",
       "count                                        500.000000   \n",
       "mean                                        6585.488000   \n",
       "std                                         7682.009405   \n",
       "min                                          236.000000   \n",
       "25%                                         2181.500000   \n",
       "50%                                         3417.000000   \n",
       "75%                                         7989.000000   \n",
       "max                                        51456.000000   \n",
       "\n",
       "       Lifetime People who have liked your Page and engaged with your post  \\\n",
       "count                                         500.000000                     \n",
       "mean                                          609.986000                     \n",
       "std                                           612.725618                     \n",
       "min                                             9.000000                     \n",
       "25%                                           291.000000                     \n",
       "50%                                           412.000000                     \n",
       "75%                                           656.250000                     \n",
       "max                                          4376.000000                     \n",
       "\n",
       "         comment         like       share  Total Interactions  comment/share  \n",
       "count  500.00000   499.000000  496.000000          500.000000     484.000000  \n",
       "mean     7.48200   177.945892   27.266129          212.120000            inf  \n",
       "std     21.18091   323.398742   42.613292          380.233118            NaN  \n",
       "min      0.00000     0.000000    0.000000            0.000000       0.000000  \n",
       "25%      1.00000    56.500000   10.000000           71.000000       0.051974  \n",
       "50%      3.00000   101.000000   19.000000          123.500000       0.150000  \n",
       "75%      7.00000   187.500000   32.250000          228.500000       0.307692  \n",
       "max    372.00000  5172.000000  790.000000         6334.000000            inf  "
      ]
     },
     "execution_count": 50,
     "metadata": {},
     "output_type": "execute_result"
    }
   ],
   "source": [
    "#o método describe ignora as variáveis categóricas\n",
    "df2.describe()"
   ]
  },
  {
   "cell_type": "code",
   "execution_count": 51,
   "metadata": {},
   "outputs": [
    {
     "data": {
      "text/plain": [
       "count     499.000000\n",
       "mean      177.945892\n",
       "std       323.398742\n",
       "min         0.000000\n",
       "25%        56.500000\n",
       "50%       101.000000\n",
       "75%       187.500000\n",
       "max      5172.000000\n",
       "Name: like, dtype: float64"
      ]
     },
     "execution_count": 51,
     "metadata": {},
     "output_type": "execute_result"
    }
   ],
   "source": [
    "df2['like'].describe()"
   ]
  },
  {
   "cell_type": "code",
   "execution_count": 52,
   "metadata": {},
   "outputs": [
    {
     "data": {
      "text/plain": [
       "Page total likes                                                       1.231942e+05\n",
       "Category                                                               1.880000e+00\n",
       "Post Month                                                             7.038000e+00\n",
       "Post Weekday                                                           4.150000e+00\n",
       "Post Hour                                                              7.840000e+00\n",
       "Paid                                                                   2.785571e-01\n",
       "Lifetime Post Total Reach                                              1.390336e+04\n",
       "Lifetime Post Total Impressions                                        2.958595e+04\n",
       "Lifetime Engaged Users                                                 9.203440e+02\n",
       "Lifetime Post Consumers                                                7.987720e+02\n",
       "Lifetime Post Consumptions                                             1.415130e+03\n",
       "Lifetime Post Impressions by people who have liked your Page           1.676638e+04\n",
       "Lifetime Post reach by people who like your Page                       6.585488e+03\n",
       "Lifetime People who have liked your Page and engaged with your post    6.099860e+02\n",
       "comment                                                                7.482000e+00\n",
       "like                                                                   1.779459e+02\n",
       "share                                                                  2.726613e+01\n",
       "Total Interactions                                                     2.121200e+02\n",
       "comment/share                                                                   inf\n",
       "dtype: float64"
      ]
     },
     "execution_count": 52,
     "metadata": {},
     "output_type": "execute_result"
    }
   ],
   "source": [
    "df2.mean()"
   ]
  },
  {
   "cell_type": "code",
   "execution_count": 53,
   "metadata": {},
   "outputs": [
    {
     "data": {
      "text/plain": [
       "3.0"
      ]
     },
     "execution_count": 53,
     "metadata": {},
     "output_type": "execute_result"
    }
   ],
   "source": [
    "df2['comment'].median()"
   ]
  },
  {
   "cell_type": "code",
   "execution_count": 54,
   "metadata": {},
   "outputs": [
    {
     "data": {
      "text/plain": [
       "42.61329215892268"
      ]
     },
     "execution_count": 54,
     "metadata": {},
     "output_type": "execute_result"
    }
   ],
   "source": [
    "df2['share'].std()"
   ]
  },
  {
   "cell_type": "code",
   "execution_count": 55,
   "metadata": {},
   "outputs": [
    {
     "data": {
      "text/plain": [
       "0    0.0\n",
       "dtype: float64"
      ]
     },
     "execution_count": 55,
     "metadata": {},
     "output_type": "execute_result"
    }
   ],
   "source": [
    "df2['comment/share'].mode()"
   ]
  },
  {
   "cell_type": "code",
   "execution_count": 56,
   "metadata": {},
   "outputs": [
    {
     "data": {
      "text/plain": [
       "Page total likes                                                       2.648044e+08\n",
       "Category                                                               7.270541e-01\n",
       "Post Month                                                             1.094244e+01\n",
       "Post Weekday                                                           4.123747e+00\n",
       "Post Hour                                                              1.908457e+01\n",
       "Paid                                                                   2.013666e-01\n",
       "Lifetime Post Total Reach                                              5.171434e+08\n",
       "Lifetime Post Total Impressions                                        5.898739e+09\n",
       "Lifetime Engaged Users                                                 9.702578e+05\n",
       "Lifetime Post Consumers                                                7.788151e+05\n",
       "Lifetime Post Consumptions                                             4.002377e+06\n",
       "Lifetime Post Impressions by people who have liked your Page           3.574967e+09\n",
       "Lifetime Post reach by people who like your Page                       5.901327e+07\n",
       "Lifetime People who have liked your Page and engaged with your post    3.754327e+05\n",
       "comment                                                                4.486309e+02\n",
       "like                                                                   1.045867e+05\n",
       "share                                                                  1.815893e+03\n",
       "Total Interactions                                                     1.445772e+05\n",
       "comment/share                                                                   NaN\n",
       "dtype: float64"
      ]
     },
     "execution_count": 56,
     "metadata": {},
     "output_type": "execute_result"
    }
   ],
   "source": [
    "df2.var()"
   ]
  },
  {
   "cell_type": "code",
   "execution_count": 57,
   "metadata": {},
   "outputs": [
    {
     "data": {
      "text/plain": [
       "13524.0"
      ]
     },
     "execution_count": 57,
     "metadata": {},
     "output_type": "execute_result"
    }
   ],
   "source": [
    "df2['share'].sum()"
   ]
  },
  {
   "cell_type": "code",
   "execution_count": 58,
   "metadata": {},
   "outputs": [
    {
     "data": {
      "text/plain": [
       "5172.0"
      ]
     },
     "execution_count": 58,
     "metadata": {},
     "output_type": "execute_result"
    }
   ],
   "source": [
    "df2['like'].max()"
   ]
  },
  {
   "cell_type": "code",
   "execution_count": 59,
   "metadata": {},
   "outputs": [
    {
     "data": {
      "text/plain": [
       "0.0"
      ]
     },
     "execution_count": 59,
     "metadata": {},
     "output_type": "execute_result"
    }
   ],
   "source": [
    "df2['like'].min()"
   ]
  },
  {
   "cell_type": "code",
   "execution_count": 60,
   "metadata": {},
   "outputs": [
    {
     "data": {
      "text/plain": [
       "500"
      ]
     },
     "execution_count": 60,
     "metadata": {},
     "output_type": "execute_result"
    }
   ],
   "source": [
    "#conta apenas valores não missing, logo pode ser utilizado para verificar a presença de missing values\n",
    "df2['comment'].count()"
   ]
  },
  {
   "cell_type": "markdown",
   "metadata": {},
   "source": [
    "**Consigo também fazer plots simples do Df ou de colunas"
   ]
  },
  {
   "cell_type": "code",
   "execution_count": 61,
   "metadata": {},
   "outputs": [
    {
     "data": {
      "text/plain": [
       "<matplotlib.axes._subplots.AxesSubplot at 0x3f77812c88>"
      ]
     },
     "execution_count": 61,
     "metadata": {},
     "output_type": "execute_result"
    },
    {
     "data": {
      "image/png": "[encoded data removed]",
      "text/plain": [
       "<Figure size 432x288 with 1 Axes>"
      ]
     },
     "metadata": {
      "needs_background": "light"
     },
     "output_type": "display_data"
    }
   ],
   "source": [
    "df2['share'].plot(kind='box')"
   ]
  },
  {
   "cell_type": "code",
   "execution_count": 62,
   "metadata": {},
   "outputs": [
    {
     "data": {
      "text/plain": [
       "<matplotlib.axes._subplots.AxesSubplot at 0x3f77cfa248>"
      ]
     },
     "execution_count": 62,
     "metadata": {},
     "output_type": "execute_result"
    },
    {
     "data": {
      "image/png": "[encoded data removed]",
      "text/plain": [
       "<Figure size 432x288 with 1 Axes>"
      ]
     },
     "metadata": {
      "needs_background": "light"
     },
     "output_type": "display_data"
    }
   ],
   "source": [
    "df2['comment'].plot(kind='hist')"
   ]
  },
  {
   "cell_type": "code",
   "execution_count": 63,
   "metadata": {},
   "outputs": [
    {
     "data": {
      "text/plain": [
       "<matplotlib.axes._subplots.AxesSubplot at 0x3f77d8ca48>"
      ]
     },
     "execution_count": 63,
     "metadata": {},
     "output_type": "execute_result"
    },
    {
     "data": {
      "image/png": "[encoded data removed]",
      "text/plain": [
       "<Figure size 432x288 with 1 Axes>"
      ]
     },
     "metadata": {
      "needs_background": "light"
     },
     "output_type": "display_data"
    }
   ],
   "source": [
    "df2['comment/share'].plot(kind='line')"
   ]
  },
  {
   "cell_type": "code",
   "execution_count": 64,
   "metadata": {},
   "outputs": [
    {
     "data": {
      "text/plain": [
       "<matplotlib.axes._subplots.AxesSubplot at 0x3f77df7d88>"
      ]
     },
     "execution_count": 64,
     "metadata": {},
     "output_type": "execute_result"
    },
    {
     "data": {
      "image/png": "[encoded data removed]",
      "text/plain": [
       "<Figure size 432x288 with 1 Axes>"
      ]
     },
     "metadata": {
      "needs_background": "light"
     },
     "output_type": "display_data"
    }
   ],
   "source": [
    "df2['like'].plot(kind='barh')"
   ]
  },
  {
   "cell_type": "markdown",
   "metadata": {},
   "source": [
    "**Posso criar subsets do meu DataFrame que também serão DataFrames"
   ]
  },
  {
   "cell_type": "code",
   "execution_count": 65,
   "metadata": {},
   "outputs": [
    {
     "data": {
      "text/html": [
       "<div>\n",
       "<style scoped>\n",
       "    .dataframe tbody tr th:only-of-type {\n",
       "        vertical-align: middle;\n",
       "    }\n",
       "\n",
       "    .dataframe tbody tr th {\n",
       "        vertical-align: top;\n",
       "    }\n",
       "\n",
       "    .dataframe thead th {\n",
       "        text-align: right;\n",
       "    }\n",
       "</style>\n",
       "<table border=\"1\" class=\"dataframe\">\n",
       "  <thead>\n",
       "    <tr style=\"text-align: right;\">\n",
       "      <th></th>\n",
       "      <th>Type</th>\n",
       "      <th>Category</th>\n",
       "      <th>Post Hour</th>\n",
       "      <th>Paid</th>\n",
       "      <th>like</th>\n",
       "      <th>share</th>\n",
       "      <th>comment</th>\n",
       "    </tr>\n",
       "  </thead>\n",
       "  <tbody>\n",
       "    <tr>\n",
       "      <th>0</th>\n",
       "      <td>Photo</td>\n",
       "      <td>2</td>\n",
       "      <td>3</td>\n",
       "      <td>0.0</td>\n",
       "      <td>79.0</td>\n",
       "      <td>17.0</td>\n",
       "      <td>4</td>\n",
       "    </tr>\n",
       "    <tr>\n",
       "      <th>1</th>\n",
       "      <td>Status</td>\n",
       "      <td>2</td>\n",
       "      <td>10</td>\n",
       "      <td>0.0</td>\n",
       "      <td>130.0</td>\n",
       "      <td>29.0</td>\n",
       "      <td>5</td>\n",
       "    </tr>\n",
       "    <tr>\n",
       "      <th>2</th>\n",
       "      <td>Photo</td>\n",
       "      <td>3</td>\n",
       "      <td>3</td>\n",
       "      <td>0.0</td>\n",
       "      <td>66.0</td>\n",
       "      <td>14.0</td>\n",
       "      <td>0</td>\n",
       "    </tr>\n",
       "    <tr>\n",
       "      <th>3</th>\n",
       "      <td>Photo</td>\n",
       "      <td>2</td>\n",
       "      <td>10</td>\n",
       "      <td>1.0</td>\n",
       "      <td>1572.0</td>\n",
       "      <td>147.0</td>\n",
       "      <td>58</td>\n",
       "    </tr>\n",
       "    <tr>\n",
       "      <th>4</th>\n",
       "      <td>Photo</td>\n",
       "      <td>2</td>\n",
       "      <td>3</td>\n",
       "      <td>0.0</td>\n",
       "      <td>325.0</td>\n",
       "      <td>49.0</td>\n",
       "      <td>19</td>\n",
       "    </tr>\n",
       "  </tbody>\n",
       "</table>\n",
       "</div>"
      ],
      "text/plain": [
       "     Type  Category  Post Hour  Paid    like  share  comment\n",
       "0   Photo         2          3   0.0    79.0   17.0        4\n",
       "1  Status         2         10   0.0   130.0   29.0        5\n",
       "2   Photo         3          3   0.0    66.0   14.0        0\n",
       "3   Photo         2         10   1.0  1572.0  147.0       58\n",
       "4   Photo         2          3   0.0   325.0   49.0       19"
      ]
     },
     "execution_count": 65,
     "metadata": {},
     "output_type": "execute_result"
    }
   ],
   "source": [
    "df3 = df2[['Type','Category','Post Hour','Paid','like','share','comment']]\n",
    "df3.head()"
   ]
  },
  {
   "cell_type": "markdown",
   "metadata": {},
   "source": [
    "**Consigo fazer agrupamentos por coluna e depois fazer operações com tais agrupamentos (soma, média,moda,etc)"
   ]
  },
  {
   "cell_type": "code",
   "execution_count": 66,
   "metadata": {},
   "outputs": [
    {
     "data": {
      "text/html": [
       "<div>\n",
       "<style scoped>\n",
       "    .dataframe tbody tr th:only-of-type {\n",
       "        vertical-align: middle;\n",
       "    }\n",
       "\n",
       "    .dataframe tbody tr th {\n",
       "        vertical-align: top;\n",
       "    }\n",
       "\n",
       "    .dataframe thead th {\n",
       "        text-align: right;\n",
       "    }\n",
       "</style>\n",
       "<table border=\"1\" class=\"dataframe\">\n",
       "  <thead>\n",
       "    <tr style=\"text-align: right;\">\n",
       "      <th></th>\n",
       "      <th>Category</th>\n",
       "      <th>Post Hour</th>\n",
       "      <th>like</th>\n",
       "      <th>share</th>\n",
       "      <th>comment</th>\n",
       "    </tr>\n",
       "    <tr>\n",
       "      <th>Paid</th>\n",
       "      <th></th>\n",
       "      <th></th>\n",
       "      <th></th>\n",
       "      <th></th>\n",
       "      <th></th>\n",
       "    </tr>\n",
       "  </thead>\n",
       "  <tbody>\n",
       "    <tr>\n",
       "      <th>0.0</th>\n",
       "      <td>681</td>\n",
       "      <td>2893</td>\n",
       "      <td>55949.0</td>\n",
       "      <td>8978.0</td>\n",
       "      <td>2340</td>\n",
       "    </tr>\n",
       "    <tr>\n",
       "      <th>1.0</th>\n",
       "      <td>257</td>\n",
       "      <td>1023</td>\n",
       "      <td>32755.0</td>\n",
       "      <td>4518.0</td>\n",
       "      <td>1401</td>\n",
       "    </tr>\n",
       "  </tbody>\n",
       "</table>\n",
       "</div>"
      ],
      "text/plain": [
       "      Category  Post Hour     like   share  comment\n",
       "Paid                                               \n",
       "0.0        681       2893  55949.0  8978.0     2340\n",
       "1.0        257       1023  32755.0  4518.0     1401"
      ]
     },
     "execution_count": 66,
     "metadata": {},
     "output_type": "execute_result"
    }
   ],
   "source": [
    "#Pega meu Dataframe e agrupa com base na coluna 'Paid' e em seguida faz a soma dos valores das demais colunas para cada\n",
    "#possibilidade da coluna 'Paid' (0.0 e 1.0, no caso)\n",
    "df3.groupby(['Paid']).sum()\n"
   ]
  },
  {
   "cell_type": "markdown",
   "metadata": {},
   "source": [
    "**Identificando Missing Values (Valores Faltantes)"
   ]
  },
  {
   "cell_type": "code",
   "execution_count": 67,
   "metadata": {},
   "outputs": [
    {
     "data": {
      "text/plain": [
       "Type         0\n",
       "Category     0\n",
       "Post Hour    0\n",
       "Paid         1\n",
       "like         1\n",
       "share        4\n",
       "comment      0\n",
       "dtype: int64"
      ]
     },
     "execution_count": 67,
     "metadata": {},
     "output_type": "execute_result"
    }
   ],
   "source": [
    "#Identifico quantos valores faltantes tenho por coluna\n",
    "#poderia usar df3.isnull().sum(), porém .isna() já abrange valores nulos e valores not available (não abrange Nan's)\n",
    "df3.isna().sum()\n"
   ]
  },
  {
   "cell_type": "markdown",
   "metadata": {},
   "source": [
    "**Retirando Missing Values do DataFrame"
   ]
  },
  {
   "cell_type": "code",
   "execution_count": 68,
   "metadata": {},
   "outputs": [],
   "source": [
    "#axis = 0 -> Apaga as linhas onde ocorre algum na ou null\n",
    "#axis = 1 -> Apaga as colunas onde ocorre algum na ou null\n",
    "df3_filtrado = df3.dropna(axis=0)"
   ]
  },
  {
   "cell_type": "code",
   "execution_count": 69,
   "metadata": {},
   "outputs": [
    {
     "data": {
      "text/plain": [
       "(495, 7)"
      ]
     },
     "execution_count": 69,
     "metadata": {},
     "output_type": "execute_result"
    }
   ],
   "source": [
    "df3_filtrado.shape"
   ]
  },
  {
   "cell_type": "markdown",
   "metadata": {},
   "source": [
    "**Na prática de Ciência de Dados não eliminamos os registros na. Substituímos eles por 0, pelo valor anterior, pelo valor posterior por um valor arbitrário ou por uma regressão que tenta prever os na's (método mais sofisticado)"
   ]
  },
  {
   "cell_type": "code",
   "execution_count": 70,
   "metadata": {},
   "outputs": [
    {
     "data": {
      "text/plain": [
       "(500, 7)"
      ]
     },
     "execution_count": 70,
     "metadata": {},
     "output_type": "execute_result"
    }
   ],
   "source": [
    "#substituindo os na's por 0\n",
    "df3_filtrado2 = df3.fillna(0)\n",
    "df3_filtrado2.isna().shape"
   ]
  },
  {
   "cell_type": "code",
   "execution_count": 71,
   "metadata": {},
   "outputs": [
    {
     "data": {
      "text/plain": [
       "(500, 7)"
      ]
     },
     "execution_count": 71,
     "metadata": {},
     "output_type": "execute_result"
    }
   ],
   "source": [
    "#substituindo os na's por um valor arbitrário (-99, por exemplo)\n",
    "#ESSE MÉTODO É BASTANTE POPULAR\n",
    "#Na prática em Ciência de Dados, esse número arbitrário costuma ser um número extremo. Isso porque quando falta um valor na base \n",
    "#de dados muitas vezes isso significa que aquele registro é importante pra modelagem dos fenômenos estudados, logo dá-se ênfase\n",
    "#pro valor de modo a chamar atenção do modelo matemático pra aquele determinado registro.\n",
    "\n",
    "df3_filtrado3 = df3.fillna(-99)\n",
    "df3_filtrado3.shape"
   ]
  },
  {
   "cell_type": "code",
   "execution_count": 72,
   "metadata": {},
   "outputs": [
    {
     "data": {
      "text/plain": [
       "(500, 7)"
      ]
     },
     "execution_count": 72,
     "metadata": {},
     "output_type": "execute_result"
    }
   ],
   "source": [
    "#substituindo os na's pelo valor que vem logo antes deles\n",
    "df3_filtrado4 = df3.fillna(method='pad')\n",
    "df3_filtrado4.shape"
   ]
  },
  {
   "cell_type": "code",
   "execution_count": 73,
   "metadata": {},
   "outputs": [
    {
     "data": {
      "text/plain": [
       "(500, 7)"
      ]
     },
     "execution_count": 73,
     "metadata": {},
     "output_type": "execute_result"
    }
   ],
   "source": [
    "#substituindo os na's pelo valor que vem logo depois deles\n",
    "df3_filtrado5 = df3.fillna(method='bfill')\n",
    "df3_filtrado5.shape"
   ]
  },
  {
   "cell_type": "code",
   "execution_count": 74,
   "metadata": {},
   "outputs": [
    {
     "data": {
      "text/plain": [
       "(500, 7)"
      ]
     },
     "execution_count": 74,
     "metadata": {},
     "output_type": "execute_result"
    }
   ],
   "source": [
    "#Dá pra tratar missing values de forma diferente pra cada coluna:\n",
    "#Colunas diferentes exigem tratamentos diferentes dos missing values\n",
    "\n",
    "df3_filtrado5['like'].fillna(0,inplace=True)\n",
    "df3_filtrado5.shape"
   ]
  },
  {
   "cell_type": "markdown",
   "metadata": {},
   "source": [
    "**O método mais sofisticado e útil para tratar na's: Regressão Linear\n",
    "Técnica preferida para colunas com números contínuos, exceto quando a coluna em si exigir outra forma de tratamento dos na's devido à natureza dos dados que eu esteja analisando"
   ]
  },
  {
   "cell_type": "code",
   "execution_count": 75,
   "metadata": {},
   "outputs": [
    {
     "data": {
      "text/plain": [
       "(500, 7)"
      ]
     },
     "execution_count": 75,
     "metadata": {},
     "output_type": "execute_result"
    }
   ],
   "source": [
    "#substituindo os na's pelos valores calculados por uma regressão linear\n",
    "df3_filtrado6 = df3.interpolate(method='linear',limit_direction='forward')\n",
    "df3_filtrado6.shape"
   ]
  },
  {
   "cell_type": "markdown",
   "metadata": {},
   "source": [
    "**Posso criar vetores lógicos com Dataframes da seguinte forma"
   ]
  },
  {
   "cell_type": "code",
   "execution_count": 76,
   "metadata": {},
   "outputs": [
    {
     "data": {
      "text/plain": [
       "[0      False\n",
       " 1      False\n",
       " 2      False\n",
       " 3       True\n",
       " 4       True\n",
       "        ...  \n",
       " 495    False\n",
       " 496    False\n",
       " 497    False\n",
       " 498    False\n",
       " 499    False\n",
       " Name: like, Length: 500, dtype: bool]"
      ]
     },
     "execution_count": 76,
     "metadata": {},
     "output_type": "execute_result"
    }
   ],
   "source": [
    "vlog = [df3['like'] > df3['like'].mean()]\n",
    "vlog"
   ]
  },
  {
   "cell_type": "markdown",
   "metadata": {},
   "source": [
    "**Usos interessantíssimos dos agrupamentos (coleta de informações/insights geniais)"
   ]
  },
  {
   "cell_type": "code",
   "execution_count": 77,
   "metadata": {},
   "outputs": [],
   "source": [
    "#Quero saber qual a média de likes nos posts por hora da postagem\n",
    "mean_likes_by_hour = df3.groupby(\"Post Hour\")[\"like\"].mean()"
   ]
  },
  {
   "cell_type": "code",
   "execution_count": 78,
   "metadata": {},
   "outputs": [
    {
     "data": {
      "text/plain": [
       "<matplotlib.axes._subplots.AxesSubplot at 0x3f797aa408>"
      ]
     },
     "execution_count": 78,
     "metadata": {},
     "output_type": "execute_result"
    },
    {
     "data": {
      "image/png": "[encoded data removed]",
      "text/plain": [
       "<Figure size 432x288 with 1 Axes>"
      ]
     },
     "metadata": {
      "needs_background": "light"
     },
     "output_type": "display_data"
    }
   ],
   "source": [
    "mean_likes_by_hour.plot(kind='bar')"
   ]
  },
  {
   "cell_type": "code",
   "execution_count": 79,
   "metadata": {},
   "outputs": [],
   "source": [
    "#Quero saber qual a média de comentários nos posts por hora da postagem\n",
    "mean_comments_by_hour = df3.groupby(\"Post Hour\")['comment'].mean()"
   ]
  },
  {
   "cell_type": "code",
   "execution_count": 80,
   "metadata": {},
   "outputs": [
    {
     "data": {
      "text/plain": [
       "<matplotlib.axes._subplots.AxesSubplot at 0x3f7a023608>"
      ]
     },
     "execution_count": 80,
     "metadata": {},
     "output_type": "execute_result"
    },
    {
     "data": {
      "image/png": "[encoded data removed]",
      "text/plain": [
       "<Figure size 432x288 with 1 Axes>"
      ]
     },
     "metadata": {
      "needs_background": "light"
     },
     "output_type": "display_data"
    }
   ],
   "source": [
    "mean_comments_by_hour.plot(kind='bar')"
   ]
  },
  {
   "cell_type": "code",
   "execution_count": 81,
   "metadata": {},
   "outputs": [],
   "source": [
    "#Quero saber qual a média de compartilhamentos nos posts por hora da postagem\n",
    "mean_shares_by_hour = df3.groupby(\"Post Hour\")['share'].mean()"
   ]
  },
  {
   "cell_type": "code",
   "execution_count": 82,
   "metadata": {},
   "outputs": [
    {
     "data": {
      "text/plain": [
       "<matplotlib.axes._subplots.AxesSubplot at 0x3f7a07cb48>"
      ]
     },
     "execution_count": 82,
     "metadata": {},
     "output_type": "execute_result"
    },
    {
     "data": {
      "image/png": "[encoded data removed]",
      "text/plain": [
       "<Figure size 432x288 with 1 Axes>"
      ]
     },
     "metadata": {
      "needs_background": "light"
     },
     "output_type": "display_data"
    }
   ],
   "source": [
    "mean_shares_by_hour.plot(kind=\"bar\")"
   ]
  },
  {
   "cell_type": "markdown",
   "metadata": {},
   "source": [
    "**Nossa é incrível como o groupby é útil!\n",
    "Eu fiz uns testes aqui no dataset do Facebook e descobri algo fascinante:\n",
    "A média da interação (likes, comentários e compartilhamentos) das pessoas no Facebook é maior para posts feitos às 5 da manhã e é menor para posts feitos às 19 horas. Também descobri que posts feitos às 20 horas tem alta média de interação.\n",
    "Uma possível explicação que pensei para tal fenômeno seria:\n",
    "Às 5 horas, as pessoas acordam descansadas, pegam o celular e dão uma zapeada no Facebook antes de tomar o café e sair pro trabalho;\n",
    "Às 19 horas, as pessoas chegam exaustas em casa depois de um árduo dia de trabalho e vão direto pro banho dar uma relaxada;\n",
    "Às 20 horas, as pessoas já tomaram aquele banho relaxante e voltam a zapear o Facebook antes da hora do jantar."
   ]
  },
  {
   "cell_type": "code",
   "execution_count": 83,
   "metadata": {},
   "outputs": [
    {
     "data": {
      "text/plain": [
       "Type\n",
       "Link       73.318182\n",
       "Photo     182.611765\n",
       "Status    176.711111\n",
       "Video     231.428571\n",
       "Name: like, dtype: float64"
      ]
     },
     "execution_count": 83,
     "metadata": {},
     "output_type": "execute_result"
    }
   ],
   "source": [
    "#quero a média de likes por tipo de post\n",
    "mean_likes_by_type_post = df3.groupby(\"Type\")[\"like\"].mean()\n",
    "mean_likes_by_type_post"
   ]
  },
  {
   "cell_type": "code",
   "execution_count": 84,
   "metadata": {},
   "outputs": [
    {
     "data": {
      "text/plain": [
       "<matplotlib.axes._subplots.AxesSubplot at 0x3f7417ac48>"
      ]
     },
     "execution_count": 84,
     "metadata": {},
     "output_type": "execute_result"
    },
    {
     "data": {
      "image/png": "[encoded data removed]",
      "text/plain": [
       "<Figure size 432x288 with 1 Axes>"
      ]
     },
     "metadata": {
      "needs_background": "light"
     },
     "output_type": "display_data"
    }
   ],
   "source": [
    "mean_likes_by_type_post.plot(kind='bar')"
   ]
  },
  {
   "cell_type": "markdown",
   "metadata": {},
   "source": [
    "**Também consigo agrupar com base em mais de uma coluna"
   ]
  },
  {
   "cell_type": "code",
   "execution_count": 85,
   "metadata": {},
   "outputs": [],
   "source": [
    "#o unstack tem apenas a função de tornar a visualização do agrupamento por múltiplas colunas mais agradável de se ver\n",
    "#a ordem das colunas no agrupamento pode tornar a minha visualização mais legal\n",
    "#com essa sequência incrível de comandos (POO é vida kkk) eu consigo criar outros dataframes inéditos com valor agregado\n",
    "#absurdo e potencial de negócios\n",
    "mean_likes_by_type_post_and_post_hour = df3.groupby([\"Post Hour\",\"Type\"])[\"like\"].mean().unstack().fillna('-')"
   ]
  },
  {
   "cell_type": "code",
   "execution_count": 86,
   "metadata": {},
   "outputs": [
    {
     "data": {
      "text/html": [
       "<div>\n",
       "<style scoped>\n",
       "    .dataframe tbody tr th:only-of-type {\n",
       "        vertical-align: middle;\n",
       "    }\n",
       "\n",
       "    .dataframe tbody tr th {\n",
       "        vertical-align: top;\n",
       "    }\n",
       "\n",
       "    .dataframe thead th {\n",
       "        text-align: right;\n",
       "    }\n",
       "</style>\n",
       "<table border=\"1\" class=\"dataframe\">\n",
       "  <thead>\n",
       "    <tr style=\"text-align: right;\">\n",
       "      <th>Type</th>\n",
       "      <th>Link</th>\n",
       "      <th>Photo</th>\n",
       "      <th>Status</th>\n",
       "      <th>Video</th>\n",
       "    </tr>\n",
       "    <tr>\n",
       "      <th>Post Hour</th>\n",
       "      <th></th>\n",
       "      <th></th>\n",
       "      <th></th>\n",
       "      <th></th>\n",
       "    </tr>\n",
       "  </thead>\n",
       "  <tbody>\n",
       "    <tr>\n",
       "      <th>1</th>\n",
       "      <td>-</td>\n",
       "      <td>146.500000</td>\n",
       "      <td>-</td>\n",
       "      <td>-</td>\n",
       "    </tr>\n",
       "    <tr>\n",
       "      <th>2</th>\n",
       "      <td>22</td>\n",
       "      <td>161.733333</td>\n",
       "      <td>266.5</td>\n",
       "      <td>65</td>\n",
       "    </tr>\n",
       "    <tr>\n",
       "      <th>3</th>\n",
       "      <td>102.333</td>\n",
       "      <td>196.202247</td>\n",
       "      <td>189.111</td>\n",
       "      <td>449</td>\n",
       "    </tr>\n",
       "    <tr>\n",
       "      <th>4</th>\n",
       "      <td>47.3333</td>\n",
       "      <td>145.884615</td>\n",
       "      <td>146.667</td>\n",
       "      <td>-</td>\n",
       "    </tr>\n",
       "    <tr>\n",
       "      <th>5</th>\n",
       "      <td>-</td>\n",
       "      <td>569.923077</td>\n",
       "      <td>-</td>\n",
       "      <td>-</td>\n",
       "    </tr>\n",
       "    <tr>\n",
       "      <th>6</th>\n",
       "      <td>205.5</td>\n",
       "      <td>101.250000</td>\n",
       "      <td>249</td>\n",
       "      <td>-</td>\n",
       "    </tr>\n",
       "    <tr>\n",
       "      <th>7</th>\n",
       "      <td>38</td>\n",
       "      <td>136.000000</td>\n",
       "      <td>129</td>\n",
       "      <td>-</td>\n",
       "    </tr>\n",
       "    <tr>\n",
       "      <th>8</th>\n",
       "      <td>-</td>\n",
       "      <td>79.454545</td>\n",
       "      <td>-</td>\n",
       "      <td>-</td>\n",
       "    </tr>\n",
       "    <tr>\n",
       "      <th>9</th>\n",
       "      <td>-</td>\n",
       "      <td>105.185185</td>\n",
       "      <td>188.333</td>\n",
       "      <td>-</td>\n",
       "    </tr>\n",
       "    <tr>\n",
       "      <th>10</th>\n",
       "      <td>24</td>\n",
       "      <td>225.353846</td>\n",
       "      <td>150.9</td>\n",
       "      <td>345</td>\n",
       "    </tr>\n",
       "    <tr>\n",
       "      <th>11</th>\n",
       "      <td>76</td>\n",
       "      <td>98.352941</td>\n",
       "      <td>226.4</td>\n",
       "      <td>185.667</td>\n",
       "    </tr>\n",
       "    <tr>\n",
       "      <th>12</th>\n",
       "      <td>-</td>\n",
       "      <td>153.407407</td>\n",
       "      <td>126.5</td>\n",
       "      <td>-</td>\n",
       "    </tr>\n",
       "    <tr>\n",
       "      <th>13</th>\n",
       "      <td>114</td>\n",
       "      <td>207.959184</td>\n",
       "      <td>98</td>\n",
       "      <td>204</td>\n",
       "    </tr>\n",
       "    <tr>\n",
       "      <th>14</th>\n",
       "      <td>6</td>\n",
       "      <td>306.636364</td>\n",
       "      <td>95</td>\n",
       "      <td>-</td>\n",
       "    </tr>\n",
       "    <tr>\n",
       "      <th>15</th>\n",
       "      <td>-</td>\n",
       "      <td>58.800000</td>\n",
       "      <td>25</td>\n",
       "      <td>-</td>\n",
       "    </tr>\n",
       "    <tr>\n",
       "      <th>16</th>\n",
       "      <td>-</td>\n",
       "      <td>65.000000</td>\n",
       "      <td>-</td>\n",
       "      <td>-</td>\n",
       "    </tr>\n",
       "    <tr>\n",
       "      <th>17</th>\n",
       "      <td>-</td>\n",
       "      <td>142.666667</td>\n",
       "      <td>-</td>\n",
       "      <td>-</td>\n",
       "    </tr>\n",
       "    <tr>\n",
       "      <th>18</th>\n",
       "      <td>-</td>\n",
       "      <td>49.000000</td>\n",
       "      <td>-</td>\n",
       "      <td>-</td>\n",
       "    </tr>\n",
       "    <tr>\n",
       "      <th>19</th>\n",
       "      <td>-</td>\n",
       "      <td>2.000000</td>\n",
       "      <td>-</td>\n",
       "      <td>-</td>\n",
       "    </tr>\n",
       "    <tr>\n",
       "      <th>20</th>\n",
       "      <td>-</td>\n",
       "      <td>235.000000</td>\n",
       "      <td>-</td>\n",
       "      <td>-</td>\n",
       "    </tr>\n",
       "    <tr>\n",
       "      <th>22</th>\n",
       "      <td>-</td>\n",
       "      <td>102.000000</td>\n",
       "      <td>-</td>\n",
       "      <td>-</td>\n",
       "    </tr>\n",
       "    <tr>\n",
       "      <th>23</th>\n",
       "      <td>-</td>\n",
       "      <td>113.000000</td>\n",
       "      <td>-</td>\n",
       "      <td>-</td>\n",
       "    </tr>\n",
       "  </tbody>\n",
       "</table>\n",
       "</div>"
      ],
      "text/plain": [
       "Type          Link       Photo   Status    Video\n",
       "Post Hour                                       \n",
       "1                -  146.500000        -        -\n",
       "2               22  161.733333    266.5       65\n",
       "3          102.333  196.202247  189.111      449\n",
       "4          47.3333  145.884615  146.667        -\n",
       "5                -  569.923077        -        -\n",
       "6            205.5  101.250000      249        -\n",
       "7               38  136.000000      129        -\n",
       "8                -   79.454545        -        -\n",
       "9                -  105.185185  188.333        -\n",
       "10              24  225.353846    150.9      345\n",
       "11              76   98.352941    226.4  185.667\n",
       "12               -  153.407407    126.5        -\n",
       "13             114  207.959184       98      204\n",
       "14               6  306.636364       95        -\n",
       "15               -   58.800000       25        -\n",
       "16               -   65.000000        -        -\n",
       "17               -  142.666667        -        -\n",
       "18               -   49.000000        -        -\n",
       "19               -    2.000000        -        -\n",
       "20               -  235.000000        -        -\n",
       "22               -  102.000000        -        -\n",
       "23               -  113.000000        -        -"
      ]
     },
     "execution_count": 86,
     "metadata": {},
     "output_type": "execute_result"
    }
   ],
   "source": [
    "mean_likes_by_type_post_and_post_hour"
   ]
  },
  {
   "cell_type": "markdown",
   "metadata": {},
   "source": [
    "**Aplicando filtros ao DataFrame (Só pode ser utilizado após um groupby)"
   ]
  },
  {
   "cell_type": "code",
   "execution_count": 87,
   "metadata": {},
   "outputs": [
    {
     "data": {
      "text/html": [
       "<div>\n",
       "<style scoped>\n",
       "    .dataframe tbody tr th:only-of-type {\n",
       "        vertical-align: middle;\n",
       "    }\n",
       "\n",
       "    .dataframe tbody tr th {\n",
       "        vertical-align: top;\n",
       "    }\n",
       "\n",
       "    .dataframe thead th {\n",
       "        text-align: right;\n",
       "    }\n",
       "</style>\n",
       "<table border=\"1\" class=\"dataframe\">\n",
       "  <thead>\n",
       "    <tr style=\"text-align: right;\">\n",
       "      <th></th>\n",
       "      <th>Type</th>\n",
       "      <th>Category</th>\n",
       "      <th>Post Hour</th>\n",
       "      <th>Paid</th>\n",
       "      <th>like</th>\n",
       "      <th>share</th>\n",
       "      <th>comment</th>\n",
       "    </tr>\n",
       "  </thead>\n",
       "  <tbody>\n",
       "    <tr>\n",
       "      <th>29</th>\n",
       "      <td>Video</td>\n",
       "      <td>1</td>\n",
       "      <td>11</td>\n",
       "      <td>1.0</td>\n",
       "      <td>143.0</td>\n",
       "      <td>13.0</td>\n",
       "      <td>18</td>\n",
       "    </tr>\n",
       "    <tr>\n",
       "      <th>55</th>\n",
       "      <td>Video</td>\n",
       "      <td>1</td>\n",
       "      <td>2</td>\n",
       "      <td>1.0</td>\n",
       "      <td>65.0</td>\n",
       "      <td>14.0</td>\n",
       "      <td>2</td>\n",
       "    </tr>\n",
       "    <tr>\n",
       "      <th>71</th>\n",
       "      <td>Video</td>\n",
       "      <td>1</td>\n",
       "      <td>3</td>\n",
       "      <td>1.0</td>\n",
       "      <td>449.0</td>\n",
       "      <td>84.0</td>\n",
       "      <td>17</td>\n",
       "    </tr>\n",
       "    <tr>\n",
       "      <th>74</th>\n",
       "      <td>Video</td>\n",
       "      <td>1</td>\n",
       "      <td>11</td>\n",
       "      <td>0.0</td>\n",
       "      <td>99.0</td>\n",
       "      <td>13.0</td>\n",
       "      <td>2</td>\n",
       "    </tr>\n",
       "    <tr>\n",
       "      <th>183</th>\n",
       "      <td>Video</td>\n",
       "      <td>1</td>\n",
       "      <td>10</td>\n",
       "      <td>0.0</td>\n",
       "      <td>345.0</td>\n",
       "      <td>121.0</td>\n",
       "      <td>6</td>\n",
       "    </tr>\n",
       "    <tr>\n",
       "      <th>243</th>\n",
       "      <td>Video</td>\n",
       "      <td>1</td>\n",
       "      <td>11</td>\n",
       "      <td>1.0</td>\n",
       "      <td>315.0</td>\n",
       "      <td>76.0</td>\n",
       "      <td>18</td>\n",
       "    </tr>\n",
       "    <tr>\n",
       "      <th>277</th>\n",
       "      <td>Video</td>\n",
       "      <td>1</td>\n",
       "      <td>13</td>\n",
       "      <td>0.0</td>\n",
       "      <td>204.0</td>\n",
       "      <td>44.0</td>\n",
       "      <td>23</td>\n",
       "    </tr>\n",
       "  </tbody>\n",
       "</table>\n",
       "</div>"
      ],
      "text/plain": [
       "      Type  Category  Post Hour  Paid   like  share  comment\n",
       "29   Video         1         11   1.0  143.0   13.0       18\n",
       "55   Video         1          2   1.0   65.0   14.0        2\n",
       "71   Video         1          3   1.0  449.0   84.0       17\n",
       "74   Video         1         11   0.0   99.0   13.0        2\n",
       "183  Video         1         10   0.0  345.0  121.0        6\n",
       "243  Video         1         11   1.0  315.0   76.0       18\n",
       "277  Video         1         13   0.0  204.0   44.0       23"
      ]
     },
     "execution_count": 87,
     "metadata": {},
     "output_type": "execute_result"
    }
   ],
   "source": [
    "#crio a função que será o meu filtro\n",
    "#A função a ser usada como filtro recebe cada grupo gerado pelo groupby e faz comparações com eles\n",
    "def filtro(grupo):\n",
    "    #sempre deve retornar boolean\n",
    "    return grupo['like'].mean() > 200\n",
    "\n",
    "#aplico o filtro\n",
    "#nesse caso, retorna os registros dos grupos cuja média seja maior que 200 (nesse exemplo o código abaixo vai me retorna somente\n",
    "#o grupo Video (7 elementos))\n",
    "df3.groupby('Type').filter(filtro)"
   ]
  },
  {
   "cell_type": "markdown",
   "metadata": {},
   "source": [
    "**Aplicando aggregate (Também só pode ser usado após um groupby)\n",
    "(O Aggregate me dá medidas sob demanda para cada coluna de cada um dos agrupamentos feitos)"
   ]
  },
  {
   "cell_type": "code",
   "execution_count": 88,
   "metadata": {},
   "outputs": [
    {
     "data": {
      "text/html": [
       "<div>\n",
       "<style scoped>\n",
       "    .dataframe tbody tr th:only-of-type {\n",
       "        vertical-align: middle;\n",
       "    }\n",
       "\n",
       "    .dataframe tbody tr th {\n",
       "        vertical-align: top;\n",
       "    }\n",
       "\n",
       "    .dataframe thead tr th {\n",
       "        text-align: left;\n",
       "    }\n",
       "\n",
       "    .dataframe thead tr:last-of-type th {\n",
       "        text-align: right;\n",
       "    }\n",
       "</style>\n",
       "<table border=\"1\" class=\"dataframe\">\n",
       "  <thead>\n",
       "    <tr>\n",
       "      <th></th>\n",
       "      <th colspan=\"3\" halign=\"left\">Category</th>\n",
       "      <th colspan=\"3\" halign=\"left\">Post Hour</th>\n",
       "      <th colspan=\"3\" halign=\"left\">Paid</th>\n",
       "      <th colspan=\"3\" halign=\"left\">like</th>\n",
       "      <th colspan=\"3\" halign=\"left\">share</th>\n",
       "      <th colspan=\"3\" halign=\"left\">comment</th>\n",
       "    </tr>\n",
       "    <tr>\n",
       "      <th></th>\n",
       "      <th>mean</th>\n",
       "      <th>median</th>\n",
       "      <th>std</th>\n",
       "      <th>mean</th>\n",
       "      <th>median</th>\n",
       "      <th>std</th>\n",
       "      <th>mean</th>\n",
       "      <th>median</th>\n",
       "      <th>std</th>\n",
       "      <th>mean</th>\n",
       "      <th>median</th>\n",
       "      <th>std</th>\n",
       "      <th>mean</th>\n",
       "      <th>median</th>\n",
       "      <th>std</th>\n",
       "      <th>mean</th>\n",
       "      <th>median</th>\n",
       "      <th>std</th>\n",
       "    </tr>\n",
       "    <tr>\n",
       "      <th>Type</th>\n",
       "      <th></th>\n",
       "      <th></th>\n",
       "      <th></th>\n",
       "      <th></th>\n",
       "      <th></th>\n",
       "      <th></th>\n",
       "      <th></th>\n",
       "      <th></th>\n",
       "      <th></th>\n",
       "      <th></th>\n",
       "      <th></th>\n",
       "      <th></th>\n",
       "      <th></th>\n",
       "      <th></th>\n",
       "      <th></th>\n",
       "      <th></th>\n",
       "      <th></th>\n",
       "      <th></th>\n",
       "    </tr>\n",
       "  </thead>\n",
       "  <tbody>\n",
       "    <tr>\n",
       "      <th>Link</th>\n",
       "      <td>1.136364</td>\n",
       "      <td>1</td>\n",
       "      <td>0.467563</td>\n",
       "      <td>5.727273</td>\n",
       "      <td>4</td>\n",
       "      <td>3.930126</td>\n",
       "      <td>0.272727</td>\n",
       "      <td>0.0</td>\n",
       "      <td>0.455842</td>\n",
       "      <td>73.318182</td>\n",
       "      <td>37.0</td>\n",
       "      <td>85.746240</td>\n",
       "      <td>12.909091</td>\n",
       "      <td>10.5</td>\n",
       "      <td>11.751025</td>\n",
       "      <td>2.818182</td>\n",
       "      <td>1.5</td>\n",
       "      <td>3.633657</td>\n",
       "    </tr>\n",
       "    <tr>\n",
       "      <th>Photo</th>\n",
       "      <td>1.917840</td>\n",
       "      <td>2</td>\n",
       "      <td>0.884007</td>\n",
       "      <td>7.997653</td>\n",
       "      <td>9</td>\n",
       "      <td>4.413082</td>\n",
       "      <td>0.280000</td>\n",
       "      <td>0.0</td>\n",
       "      <td>0.449528</td>\n",
       "      <td>182.611765</td>\n",
       "      <td>100.0</td>\n",
       "      <td>345.245233</td>\n",
       "      <td>27.158768</td>\n",
       "      <td>19.0</td>\n",
       "      <td>44.919679</td>\n",
       "      <td>7.492958</td>\n",
       "      <td>3.0</td>\n",
       "      <td>22.522275</td>\n",
       "    </tr>\n",
       "    <tr>\n",
       "      <th>Status</th>\n",
       "      <td>2.022222</td>\n",
       "      <td>2</td>\n",
       "      <td>0.398228</td>\n",
       "      <td>7.244444</td>\n",
       "      <td>9</td>\n",
       "      <td>3.926342</td>\n",
       "      <td>0.222222</td>\n",
       "      <td>0.0</td>\n",
       "      <td>0.420437</td>\n",
       "      <td>176.711111</td>\n",
       "      <td>150.0</td>\n",
       "      <td>150.772499</td>\n",
       "      <td>31.422222</td>\n",
       "      <td>28.0</td>\n",
       "      <td>24.272589</td>\n",
       "      <td>8.911111</td>\n",
       "      <td>4.0</td>\n",
       "      <td>12.451400</td>\n",
       "    </tr>\n",
       "    <tr>\n",
       "      <th>Video</th>\n",
       "      <td>1.000000</td>\n",
       "      <td>1</td>\n",
       "      <td>0.000000</td>\n",
       "      <td>8.714286</td>\n",
       "      <td>11</td>\n",
       "      <td>4.347961</td>\n",
       "      <td>0.571429</td>\n",
       "      <td>1.0</td>\n",
       "      <td>0.534522</td>\n",
       "      <td>231.428571</td>\n",
       "      <td>204.0</td>\n",
       "      <td>142.025652</td>\n",
       "      <td>52.142857</td>\n",
       "      <td>44.0</td>\n",
       "      <td>42.643595</td>\n",
       "      <td>12.285714</td>\n",
       "      <td>17.0</td>\n",
       "      <td>8.693183</td>\n",
       "    </tr>\n",
       "  </tbody>\n",
       "</table>\n",
       "</div>"
      ],
      "text/plain": [
       "        Category                  Post Hour                       Paid         \\\n",
       "            mean median       std      mean median       std      mean median   \n",
       "Type                                                                            \n",
       "Link    1.136364      1  0.467563  5.727273      4  3.930126  0.272727    0.0   \n",
       "Photo   1.917840      2  0.884007  7.997653      9  4.413082  0.280000    0.0   \n",
       "Status  2.022222      2  0.398228  7.244444      9  3.926342  0.222222    0.0   \n",
       "Video   1.000000      1  0.000000  8.714286     11  4.347961  0.571429    1.0   \n",
       "\n",
       "                        like                         share                    \\\n",
       "             std        mean median         std       mean median        std   \n",
       "Type                                                                           \n",
       "Link    0.455842   73.318182   37.0   85.746240  12.909091   10.5  11.751025   \n",
       "Photo   0.449528  182.611765  100.0  345.245233  27.158768   19.0  44.919679   \n",
       "Status  0.420437  176.711111  150.0  150.772499  31.422222   28.0  24.272589   \n",
       "Video   0.534522  231.428571  204.0  142.025652  52.142857   44.0  42.643595   \n",
       "\n",
       "          comment                    \n",
       "             mean median        std  \n",
       "Type                                 \n",
       "Link     2.818182    1.5   3.633657  \n",
       "Photo    7.492958    3.0  22.522275  \n",
       "Status   8.911111    4.0  12.451400  \n",
       "Video   12.285714   17.0   8.693183  "
      ]
     },
     "execution_count": 88,
     "metadata": {},
     "output_type": "execute_result"
    }
   ],
   "source": [
    "df3.groupby(\"Type\").aggregate(['mean','median','std'])"
   ]
  },
  {
   "cell_type": "code",
   "execution_count": 89,
   "metadata": {},
   "outputs": [
    {
     "data": {
      "text/html": [
       "<div>\n",
       "<style scoped>\n",
       "    .dataframe tbody tr th:only-of-type {\n",
       "        vertical-align: middle;\n",
       "    }\n",
       "\n",
       "    .dataframe tbody tr th {\n",
       "        vertical-align: top;\n",
       "    }\n",
       "\n",
       "    .dataframe thead th {\n",
       "        text-align: right;\n",
       "    }\n",
       "</style>\n",
       "<table border=\"1\" class=\"dataframe\">\n",
       "  <thead>\n",
       "    <tr style=\"text-align: right;\">\n",
       "      <th></th>\n",
       "      <th>mean</th>\n",
       "      <th>median</th>\n",
       "      <th>std</th>\n",
       "    </tr>\n",
       "    <tr>\n",
       "      <th>Type</th>\n",
       "      <th></th>\n",
       "      <th></th>\n",
       "      <th></th>\n",
       "    </tr>\n",
       "  </thead>\n",
       "  <tbody>\n",
       "    <tr>\n",
       "      <th>Link</th>\n",
       "      <td>73.318182</td>\n",
       "      <td>37.0</td>\n",
       "      <td>85.746240</td>\n",
       "    </tr>\n",
       "    <tr>\n",
       "      <th>Photo</th>\n",
       "      <td>182.611765</td>\n",
       "      <td>100.0</td>\n",
       "      <td>345.245233</td>\n",
       "    </tr>\n",
       "    <tr>\n",
       "      <th>Status</th>\n",
       "      <td>176.711111</td>\n",
       "      <td>150.0</td>\n",
       "      <td>150.772499</td>\n",
       "    </tr>\n",
       "    <tr>\n",
       "      <th>Video</th>\n",
       "      <td>231.428571</td>\n",
       "      <td>204.0</td>\n",
       "      <td>142.025652</td>\n",
       "    </tr>\n",
       "  </tbody>\n",
       "</table>\n",
       "</div>"
      ],
      "text/plain": [
       "              mean  median         std\n",
       "Type                                  \n",
       "Link     73.318182    37.0   85.746240\n",
       "Photo   182.611765   100.0  345.245233\n",
       "Status  176.711111   150.0  150.772499\n",
       "Video   231.428571   204.0  142.025652"
      ]
     },
     "execution_count": 89,
     "metadata": {},
     "output_type": "execute_result"
    }
   ],
   "source": [
    "#posso detalhar ainda mais o aggregate para apenas uma coluna específica de cada grupo\n",
    "df3.groupby(\"Type\")['like'].aggregate(['mean','median','std'])"
   ]
  },
  {
   "cell_type": "code",
   "execution_count": 90,
   "metadata": {},
   "outputs": [
    {
     "data": {
      "text/html": [
       "<div>\n",
       "<style scoped>\n",
       "    .dataframe tbody tr th:only-of-type {\n",
       "        vertical-align: middle;\n",
       "    }\n",
       "\n",
       "    .dataframe tbody tr th {\n",
       "        vertical-align: top;\n",
       "    }\n",
       "\n",
       "    .dataframe thead th {\n",
       "        text-align: right;\n",
       "    }\n",
       "</style>\n",
       "<table border=\"1\" class=\"dataframe\">\n",
       "  <thead>\n",
       "    <tr style=\"text-align: right;\">\n",
       "      <th></th>\n",
       "      <th>comment</th>\n",
       "      <th>share</th>\n",
       "      <th>like</th>\n",
       "    </tr>\n",
       "    <tr>\n",
       "      <th>Type</th>\n",
       "      <th></th>\n",
       "      <th></th>\n",
       "      <th></th>\n",
       "    </tr>\n",
       "  </thead>\n",
       "  <tbody>\n",
       "    <tr>\n",
       "      <th>Link</th>\n",
       "      <td>2.818182</td>\n",
       "      <td>11.751025</td>\n",
       "      <td>5.0</td>\n",
       "    </tr>\n",
       "    <tr>\n",
       "      <th>Photo</th>\n",
       "      <td>7.492958</td>\n",
       "      <td>44.919679</td>\n",
       "      <td>0.0</td>\n",
       "    </tr>\n",
       "    <tr>\n",
       "      <th>Status</th>\n",
       "      <td>8.911111</td>\n",
       "      <td>24.272589</td>\n",
       "      <td>13.0</td>\n",
       "    </tr>\n",
       "    <tr>\n",
       "      <th>Video</th>\n",
       "      <td>12.285714</td>\n",
       "      <td>42.643595</td>\n",
       "      <td>65.0</td>\n",
       "    </tr>\n",
       "  </tbody>\n",
       "</table>\n",
       "</div>"
      ],
      "text/plain": [
       "          comment      share  like\n",
       "Type                              \n",
       "Link     2.818182  11.751025   5.0\n",
       "Photo    7.492958  44.919679   0.0\n",
       "Status   8.911111  24.272589  13.0\n",
       "Video   12.285714  42.643595  65.0"
      ]
     },
     "execution_count": 90,
     "metadata": {},
     "output_type": "execute_result"
    }
   ],
   "source": [
    "#posso também detalhar quais métricas quero utilizar para cada coluna no aggregate\n",
    "#OBS1: A visualização pode ficar confusa\n",
    "\n",
    "df3.groupby('Type').aggregate({'comment':'mean','share':'std','like':'min'})"
   ]
  },
  {
   "cell_type": "markdown",
   "metadata": {},
   "source": [
    "**Método Transform (Aplica um dado cálculo por toda a base)"
   ]
  },
  {
   "cell_type": "code",
   "execution_count": 91,
   "metadata": {},
   "outputs": [
    {
     "data": {
      "text/html": [
       "<div>\n",
       "<style scoped>\n",
       "    .dataframe tbody tr th:only-of-type {\n",
       "        vertical-align: middle;\n",
       "    }\n",
       "\n",
       "    .dataframe tbody tr th {\n",
       "        vertical-align: top;\n",
       "    }\n",
       "\n",
       "    .dataframe thead th {\n",
       "        text-align: right;\n",
       "    }\n",
       "</style>\n",
       "<table border=\"1\" class=\"dataframe\">\n",
       "  <thead>\n",
       "    <tr style=\"text-align: right;\">\n",
       "      <th></th>\n",
       "      <th>like</th>\n",
       "      <th>share</th>\n",
       "    </tr>\n",
       "  </thead>\n",
       "  <tbody>\n",
       "    <tr>\n",
       "      <th>0</th>\n",
       "      <td>-98.945892</td>\n",
       "      <td>-10.266129</td>\n",
       "    </tr>\n",
       "    <tr>\n",
       "      <th>1</th>\n",
       "      <td>-47.945892</td>\n",
       "      <td>1.733871</td>\n",
       "    </tr>\n",
       "    <tr>\n",
       "      <th>2</th>\n",
       "      <td>-111.945892</td>\n",
       "      <td>-13.266129</td>\n",
       "    </tr>\n",
       "    <tr>\n",
       "      <th>3</th>\n",
       "      <td>1394.054108</td>\n",
       "      <td>119.733871</td>\n",
       "    </tr>\n",
       "    <tr>\n",
       "      <th>4</th>\n",
       "      <td>147.054108</td>\n",
       "      <td>21.733871</td>\n",
       "    </tr>\n",
       "    <tr>\n",
       "      <th>...</th>\n",
       "      <td>...</td>\n",
       "      <td>...</td>\n",
       "    </tr>\n",
       "    <tr>\n",
       "      <th>495</th>\n",
       "      <td>-124.945892</td>\n",
       "      <td>-1.266129</td>\n",
       "    </tr>\n",
       "    <tr>\n",
       "      <th>496</th>\n",
       "      <td>-124.945892</td>\n",
       "      <td>-5.266129</td>\n",
       "    </tr>\n",
       "    <tr>\n",
       "      <th>497</th>\n",
       "      <td>-84.945892</td>\n",
       "      <td>-9.266129</td>\n",
       "    </tr>\n",
       "    <tr>\n",
       "      <th>498</th>\n",
       "      <td>-86.945892</td>\n",
       "      <td>10.733871</td>\n",
       "    </tr>\n",
       "    <tr>\n",
       "      <th>499</th>\n",
       "      <td>-86.945892</td>\n",
       "      <td>0.733871</td>\n",
       "    </tr>\n",
       "  </tbody>\n",
       "</table>\n",
       "<p>500 rows × 2 columns</p>\n",
       "</div>"
      ],
      "text/plain": [
       "            like       share\n",
       "0     -98.945892  -10.266129\n",
       "1     -47.945892    1.733871\n",
       "2    -111.945892  -13.266129\n",
       "3    1394.054108  119.733871\n",
       "4     147.054108   21.733871\n",
       "..           ...         ...\n",
       "495  -124.945892   -1.266129\n",
       "496  -124.945892   -5.266129\n",
       "497   -84.945892   -9.266129\n",
       "498   -86.945892   10.733871\n",
       "499   -86.945892    0.733871\n",
       "\n",
       "[500 rows x 2 columns]"
      ]
     },
     "execution_count": 91,
     "metadata": {},
     "output_type": "execute_result"
    }
   ],
   "source": [
    "#Posso aplicar o transform na base diretamente (Tomar cuidado com colunas categóricas)\n",
    "df3[['like','share']].transform(lambda x: x - x.mean())"
   ]
  },
  {
   "cell_type": "code",
   "execution_count": 92,
   "metadata": {},
   "outputs": [
    {
     "data": {
      "text/html": [
       "<div>\n",
       "<style scoped>\n",
       "    .dataframe tbody tr th:only-of-type {\n",
       "        vertical-align: middle;\n",
       "    }\n",
       "\n",
       "    .dataframe tbody tr th {\n",
       "        vertical-align: top;\n",
       "    }\n",
       "\n",
       "    .dataframe thead th {\n",
       "        text-align: right;\n",
       "    }\n",
       "</style>\n",
       "<table border=\"1\" class=\"dataframe\">\n",
       "  <thead>\n",
       "    <tr style=\"text-align: right;\">\n",
       "      <th></th>\n",
       "      <th>Category</th>\n",
       "      <th>Paid</th>\n",
       "      <th>like</th>\n",
       "      <th>share</th>\n",
       "      <th>comment</th>\n",
       "    </tr>\n",
       "  </thead>\n",
       "  <tbody>\n",
       "    <tr>\n",
       "      <th>0</th>\n",
       "      <td>0</td>\n",
       "      <td>0.0</td>\n",
       "      <td>-34.0</td>\n",
       "      <td>-7.0</td>\n",
       "      <td>1.0</td>\n",
       "    </tr>\n",
       "    <tr>\n",
       "      <th>1</th>\n",
       "      <td>0</td>\n",
       "      <td>0.0</td>\n",
       "      <td>17.0</td>\n",
       "      <td>10.0</td>\n",
       "      <td>1.0</td>\n",
       "    </tr>\n",
       "    <tr>\n",
       "      <th>2</th>\n",
       "      <td>1</td>\n",
       "      <td>0.0</td>\n",
       "      <td>-47.0</td>\n",
       "      <td>-10.0</td>\n",
       "      <td>-3.0</td>\n",
       "    </tr>\n",
       "    <tr>\n",
       "      <th>3</th>\n",
       "      <td>0</td>\n",
       "      <td>1.0</td>\n",
       "      <td>1459.0</td>\n",
       "      <td>128.0</td>\n",
       "      <td>54.0</td>\n",
       "    </tr>\n",
       "    <tr>\n",
       "      <th>4</th>\n",
       "      <td>0</td>\n",
       "      <td>0.0</td>\n",
       "      <td>212.0</td>\n",
       "      <td>25.0</td>\n",
       "      <td>16.0</td>\n",
       "    </tr>\n",
       "    <tr>\n",
       "      <th>...</th>\n",
       "      <td>...</td>\n",
       "      <td>...</td>\n",
       "      <td>...</td>\n",
       "      <td>...</td>\n",
       "      <td>...</td>\n",
       "    </tr>\n",
       "    <tr>\n",
       "      <th>495</th>\n",
       "      <td>1</td>\n",
       "      <td>0.0</td>\n",
       "      <td>-46.0</td>\n",
       "      <td>5.0</td>\n",
       "      <td>2.0</td>\n",
       "    </tr>\n",
       "    <tr>\n",
       "      <th>496</th>\n",
       "      <td>1</td>\n",
       "      <td>0.0</td>\n",
       "      <td>-11.0</td>\n",
       "      <td>7.0</td>\n",
       "      <td>-1.0</td>\n",
       "    </tr>\n",
       "    <tr>\n",
       "      <th>497</th>\n",
       "      <td>-1</td>\n",
       "      <td>0.0</td>\n",
       "      <td>-6.0</td>\n",
       "      <td>-3.0</td>\n",
       "      <td>1.0</td>\n",
       "    </tr>\n",
       "    <tr>\n",
       "      <th>498</th>\n",
       "      <td>2</td>\n",
       "      <td>0.0</td>\n",
       "      <td>-9.0</td>\n",
       "      <td>21.5</td>\n",
       "      <td>5.0</td>\n",
       "    </tr>\n",
       "    <tr>\n",
       "      <th>499</th>\n",
       "      <td>0</td>\n",
       "      <td>NaN</td>\n",
       "      <td>-10.0</td>\n",
       "      <td>10.0</td>\n",
       "      <td>-3.0</td>\n",
       "    </tr>\n",
       "  </tbody>\n",
       "</table>\n",
       "<p>500 rows × 5 columns</p>\n",
       "</div>"
      ],
      "text/plain": [
       "     Category  Paid    like  share  comment\n",
       "0           0   0.0   -34.0   -7.0      1.0\n",
       "1           0   0.0    17.0   10.0      1.0\n",
       "2           1   0.0   -47.0  -10.0     -3.0\n",
       "3           0   1.0  1459.0  128.0     54.0\n",
       "4           0   0.0   212.0   25.0     16.0\n",
       "..        ...   ...     ...    ...      ...\n",
       "495         1   0.0   -46.0    5.0      2.0\n",
       "496         1   0.0   -11.0    7.0     -1.0\n",
       "497        -1   0.0    -6.0   -3.0      1.0\n",
       "498         2   0.0    -9.0   21.5      5.0\n",
       "499         0   NaN   -10.0   10.0     -3.0\n",
       "\n",
       "[500 rows x 5 columns]"
      ]
     },
     "execution_count": 92,
     "metadata": {},
     "output_type": "execute_result"
    }
   ],
   "source": [
    "#Posso aplicar o transform após um groupby (tomar cuidado com colunas categóricas)\n",
    "#No lugar da função lambda, eu poderia usar uma função comum também desde que ela recebesse um x e retornasse um valor calculado\n",
    "#o transformation pega cada registro (x) e atualiza ele com base no cálculo definido pela função passada como argumento\n",
    "df3.groupby('Post Hour').transform(lambda x: x - x.median())"
   ]
  },
  {
   "cell_type": "code",
   "execution_count": null,
   "metadata": {},
   "outputs": [],
   "source": []
  }
 ],
 "metadata": {
  "kernelspec": {
   "display_name": "Python 3",
   "language": "python",
   "name": "python3"
  },
  "language_info": {
   "codemirror_mode": {
    "name": "ipython",
    "version": 3
   },
   "file_extension": ".py",
   "mimetype": "text/x-python",
   "name": "python",
   "nbconvert_exporter": "python",
   "pygments_lexer": "ipython3",
   "version": "3.7.6"
  }
 },
 "nbformat": 4,
 "nbformat_minor": 4
}
